{
 "cells": [
  {
   "cell_type": "markdown",
   "id": "43f05d8c",
   "metadata": {},
   "source": [
    "# String"
   ]
  },
  {
   "cell_type": "code",
   "execution_count": 1,
   "id": "97866729",
   "metadata": {},
   "outputs": [
    {
     "name": "stdout",
     "output_type": "stream",
     "text": [
      "Enter your string : shital\n",
      "6\n"
     ]
    }
   ],
   "source": [
    "#WAP to take input string from user and print the length of string\n",
    "user = input(\"Enter your string : \")\n",
    "print(len(user))"
   ]
  },
  {
   "cell_type": "code",
   "execution_count": 1,
   "id": "4626891d",
   "metadata": {},
   "outputs": [
    {
     "name": "stdout",
     "output_type": "stream",
     "text": [
      "Myct\n"
     ]
    }
   ],
   "source": [
    "# Write a Python program to get a string made of the first 2 and the last 2 chars from a given a string.\n",
    "info = \"MyProject\"\n",
    "print(info[:2]+info[-2:])\n"
   ]
  },
  {
   "cell_type": "code",
   "execution_count": 17,
   "id": "cceb453c",
   "metadata": {},
   "outputs": [
    {
     "name": "stdout",
     "output_type": "stream",
     "text": [
      "Enter space spreated string : xyz,abc\n",
      "Orignal string  xyz abc\n",
      "After Swap string : abz xyc\n"
     ]
    }
   ],
   "source": [
    "# Write a Python program to get a single string from two given strings by user , \n",
    "#separated by a space and swap the first two characters of each string. \n",
    "#Sample String : 'abc', 'xyz' =   Expected Result : 'xyc abz'\n",
    "str1, str2 = input(\"Enter space spreated string : \").split(',')\n",
    "print(\"Orignal string \", str1, str2)\n",
    "New_str1 = str2[:2] + str1[2:]+ ' '+ str1[:2] + str2[2:]\n",
    "print(\"After Swap string :\",New_str1)\n",
    "\n"
   ]
  },
  {
   "cell_type": "code",
   "execution_count": 38,
   "id": "48a03c34",
   "metadata": {},
   "outputs": [
    {
     "name": "stdout",
     "output_type": "stream",
     "text": [
      "Ptoyhn\n",
      "PyThOn\n"
     ]
    }
   ],
   "source": [
    "# Write a Python program to change a given string to a new string where all the even position \n",
    "#characters are in starting and all odd position characters are in end.\n",
    "string = 'Python'\n",
    "new_string = string[::2] + string[1::2]\n",
    "print(new_string)\n",
    "# another way:\n",
    "st = ''\n",
    "for i in range(len(string)):\n",
    "    if i % 2 == 0:\n",
    "        st = st+string[i].upper()\n",
    "        \n",
    "    else:\n",
    "        st = st+string[i].lower()\n",
    "print(st)"
   ]
  },
  {
   "cell_type": "code",
   "execution_count": 26,
   "id": "fd7cef1c",
   "metadata": {},
   "outputs": [
    {
     "name": "stdout",
     "output_type": "stream",
     "text": [
      "sai\n",
      "sai\n"
     ]
    }
   ],
   "source": [
    "#Write a Python program to remove the characters which have odd index values of a given string\n",
    "str1 = 'swarit'\n",
    "even_letter = str1[::2]\n",
    "print(even_letter)\n",
    "#another way\n",
    "str2 = ''\n",
    "for i in range(len(str1)):\n",
    "    if i % 2 ==0:\n",
    "        str2 = str2+str1[i]\n",
    "print(str2)\n",
    "    "
   ]
  },
  {
   "cell_type": "code",
   "execution_count": 13,
   "id": "063d49aa",
   "metadata": {},
   "outputs": [
    {
     "name": "stdout",
     "output_type": "stream",
     "text": [
      "my python course\n"
     ]
    }
   ],
   "source": [
    "# WAP to insert a string in the middle of a other string. \n",
    "str1 = 'python'\n",
    "str2 = 'my course'\n",
    "print(str2[:2]+\" \"+str1+\" \"+str2[3:])"
   ]
  },
  {
   "cell_type": "markdown",
   "id": "f3e0092f",
   "metadata": {},
   "source": [
    "# List"
   ]
  },
  {
   "cell_type": "code",
   "execution_count": 21,
   "id": "548194bf",
   "metadata": {},
   "outputs": [
    {
     "name": "stdout",
     "output_type": "stream",
     "text": [
      "[1, 2, 3, 4, 5, 6, 7]\n"
     ]
    }
   ],
   "source": [
    "# Write a Python program to remove duplicates from a list\n",
    "list1 = [1,2,3,4,2,5,6,7,2,4]\n",
    "s = list(set(list1))\n",
    "print(s)\n"
   ]
  },
  {
   "cell_type": "code",
   "execution_count": 22,
   "id": "3063086d",
   "metadata": {},
   "outputs": [
    {
     "name": "stdout",
     "output_type": "stream",
     "text": [
      "5\n"
     ]
    }
   ],
   "source": [
    "# Write a Python program to find the length of all words of a list\n",
    "list1 = [1,2,3,'swati', [1,2]]\n",
    "print(len(list1))"
   ]
  },
  {
   "cell_type": "code",
   "execution_count": 19,
   "id": "98405231",
   "metadata": {},
   "outputs": [
    {
     "name": "stdout",
     "output_type": "stream",
     "text": [
      "['Green', 'White', 'Black']\n"
     ]
    }
   ],
   "source": [
    "# Write a Python program to print a specified list after removing the 0th, 4th and 5th elements. \n",
    "#Sample List : ['Red', 'Green', 'White', 'Black', 'Pink', 'Yellow']\n",
    "#Expected Output : ['Green', 'White', 'Black']\n",
    "orignal_list = ['Red', 'Green', 'White', 'Black', 'Pink', 'Yellow']\n",
    "orignal = orignal_list.pop(0)\n",
    "orignal1= orignal_list.pop(4)\n",
    "\n",
    "orignal2 = orignal_list.pop(3)\n",
    "print(orignal_list)\n"
   ]
  },
  {
   "cell_type": "code",
   "execution_count": 2,
   "id": "df5eb4a3",
   "metadata": {},
   "outputs": [
    {
     "name": "stdout",
     "output_type": "stream",
     "text": [
      "[[['*', '*', '*', '*', '*', '*'], ['*', '*', '*', '*', '*', '*'], ['*', '*', '*', '*', '*', '*'], ['*', '*', '*', '*', '*', '*']], [['*', '*', '*', '*', '*', '*'], ['*', '*', '*', '*', '*', '*'], ['*', '*', '*', '*', '*', '*'], ['*', '*', '*', '*', '*', '*']], [['*', '*', '*', '*', '*', '*'], ['*', '*', '*', '*', '*', '*'], ['*', '*', '*', '*', '*', '*'], ['*', '*', '*', '*', '*', '*']]]\n",
      "[[['*', '*', '*', '*', '*', '*'], ['*', '*', '*', '*', '*', '*'], ['*', '*', '*', '*', '*', '*'], ['*', '*', '*', '*', '*', '*']], [['*', '*', '*', '*', '*', '*'], ['*', '*', '*', '*', '*', '*'], ['*', '*', '*', '*', '*', '*'], ['*', '*', '*', '*', '*', '*']], [['*', '*', '*', '*', '*', '*'], ['*', '*', '*', '*', '*', '*'], ['*', '*', '*', '*', '*', '*'], ['*', '*', '*', '*', '*', '*']]]\n"
     ]
    }
   ],
   "source": [
    "# Write a Python program to generate a 3*4*6 3D array whose each element is *\n",
    "first = [\"*\"] * 6\n",
    "second = [first] * 4\n",
    "third = [second] * 3\n",
    "print(third)\n",
    "list1 = [[['*']*6]*4]*3\n",
    "print(list1)"
   ]
  },
  {
   "cell_type": "code",
   "execution_count": 30,
   "id": "2a3dd6ff",
   "metadata": {},
   "outputs": [
    {
     "name": "stdout",
     "output_type": "stream",
     "text": [
      "[99, 2, 3, 6]\n"
     ]
    }
   ],
   "source": [
    "#  Write a Python program to get the difference between the two lists.\n",
    "list1 = [1,2,5,4,3,7,8,6,5,4,99]\n",
    "list2 = [1,4,7,8,9,5,44,33,88]\n",
    "\n",
    "# difference\n",
    "list3 = list(set(list1) - set(list2))\n",
    "print(list3)\n"
   ]
  },
  {
   "cell_type": "code",
   "execution_count": 25,
   "id": "57d93be3",
   "metadata": {},
   "outputs": [
    {
     "name": "stdout",
     "output_type": "stream",
     "text": [
      "2\n"
     ]
    }
   ],
   "source": [
    "# Write a Python program to find the index of an item in a specified list\n",
    "list1 = ['Shital', 'Swati', 'Raj', 'Priya']\n",
    "value = list1.index('Raj')\n",
    "print(value)"
   ]
  },
  {
   "cell_type": "code",
   "execution_count": 26,
   "id": "00bdd5be",
   "metadata": {},
   "outputs": [
    {
     "name": "stdout",
     "output_type": "stream",
     "text": [
      "['Shital', 'Swati', 'Raj', 'Priya', 1, 2, 3, 4]\n"
     ]
    }
   ],
   "source": [
    "# Write a Python program to append a list to the second list.\n",
    "list1 = ['Shital', 'Swati', 'Raj', 'Priya']\n",
    "list2 = [1,2,3,4]\n",
    "list1.extend(list2)\n",
    "print(list1)"
   ]
  },
  {
   "cell_type": "code",
   "execution_count": 5,
   "id": "2a68aeeb",
   "metadata": {},
   "outputs": [
    {
     "name": "stdout",
     "output_type": "stream",
     "text": [
      "['Shital', 'Swati', 'Raj', 'Priya', [1, 2, 3, 4]]\n"
     ]
    }
   ],
   "source": [
    "list1 = ['Shital', 'Swati', 'Raj', 'Priya']\n",
    "list2 = [1,2,3,4]\n",
    "list1.append(list2)\n",
    "print(list1)"
   ]
  },
  {
   "cell_type": "code",
   "execution_count": 7,
   "id": "d5b37a37",
   "metadata": {},
   "outputs": [
    {
     "name": "stdout",
     "output_type": "stream",
     "text": [
      "[1, 2, 3, 4, 5, 6, 7, 8]\n"
     ]
    }
   ],
   "source": [
    "# Write a Python program to get unique values from a list\n",
    "list1= [1,2,3,4,5,6,7,8,2,3,4,5]\n",
    "print(list(set(list1)))"
   ]
  },
  {
   "cell_type": "code",
   "execution_count": 8,
   "id": "54d28f1f",
   "metadata": {},
   "outputs": [
    {
     "name": "stdout",
     "output_type": "stream",
     "text": [
      "6\n"
     ]
    }
   ],
   "source": [
    "# Write a Python program to count the number of elements in a list within a specified range\n",
    "#eg . count elements between 2 to -2 index\n",
    "list1 = [1,2,3,4,5,2,3,4,5]\n",
    "count = len(list1[2:-1])\n",
    "print(count)"
   ]
  },
  {
   "cell_type": "code",
   "execution_count": 18,
   "id": "fffd32ed",
   "metadata": {},
   "outputs": [
    {
     "name": "stdout",
     "output_type": "stream",
     "text": [
      "<class 'str'>\n",
      "<class 'int'>\n",
      "<class 'list'>\n",
      "<class 'tuple'>\n"
     ]
    }
   ],
   "source": [
    "# Write a Python program to check whether a list contains a sublist\n",
    "#check type of elements\n",
    "list1 = ['Shital', 23, [1,2,3], 25, (1,23,2)]\n",
    "print(type(list1[0]))\n",
    "print(type(list1[1]))\n",
    "print(type(list1[2]))\n",
    "print(type(list1[4]))"
   ]
  },
  {
   "cell_type": "code",
   "execution_count": 16,
   "id": "27b74222",
   "metadata": {},
   "outputs": [
    {
     "name": "stdout",
     "output_type": "stream",
     "text": [
      "[(), (), ('',), ('a', 'b'), ('a', 'b', 'c'), 'd']\n"
     ]
    }
   ],
   "source": [
    "# Write a Python program to remove an empty tuple(s) from a list of tuples.\n",
    "list5 = [(),(),('',),('a', 'b'),('a', 'b', 'c'),('d')]\n",
    "list5.remove(())\n",
    "list5.remove(())\n",
    "print(list5)"
   ]
  },
  {
   "cell_type": "markdown",
   "id": "65015257",
   "metadata": {},
   "source": [
    "# DICT"
   ]
  },
  {
   "cell_type": "code",
   "execution_count": 32,
   "id": "e95ea287",
   "metadata": {},
   "outputs": [
    {
     "name": "stdout",
     "output_type": "stream",
     "text": [
      "Enter the key: 2\n",
      "Enter the value : 3\n",
      "{'2': '3'}\n"
     ]
    }
   ],
   "source": [
    "# Write a Python script to ask a key and value from user and add it to a dictionary.\n",
    "dict1= {}\n",
    "data = input(\"Enter the key: \")\n",
    "data_value = input(\"Enter the value : \")\n",
    "dict1[data] = data_value\n",
    "print(dict1)\n"
   ]
  },
  {
   "cell_type": "code",
   "execution_count": 57,
   "id": "72425e62",
   "metadata": {},
   "outputs": [
    {
     "name": "stdout",
     "output_type": "stream",
     "text": [
      "{'a': 101, 'b': 201, 'c': 301, 'd': 401, 'e': 501, 'f': 601}\n"
     ]
    }
   ],
   "source": [
    "# Write a Python script to concatenate following dictionaries to create a new one\n",
    "#dic1={'a':101, 'b':201} dic2={'c':301, 'd':401} dic3={'e':501,'f':601}\n",
    "dic1 = {'a': 101, 'b': 201}\n",
    "dic2 = {'c':301, 'd': 401}\n",
    "dic3 = {'e': 501, 'f':601}\n",
    "dic = {}\n",
    "dic.update(dic1)\n",
    "dic.update(dic2)\n",
    "dic.update(dic3)\n",
    "print(dic)\n"
   ]
  },
  {
   "cell_type": "code",
   "execution_count": 43,
   "id": "6939c6bd",
   "metadata": {},
   "outputs": [
    {
     "name": "stdout",
     "output_type": "stream",
     "text": [
      "Enter key : naam\n",
      "Key is not in dict\n"
     ]
    }
   ],
   "source": [
    "# Write a Python script to check if a given key already exists in a dictionary\n",
    "dict1 = {'name': 'shital', 'sname': 'khaire', 'course': 'python'}\n",
    "key = input(\"Enter key : \")\n",
    "if key in dict1:\n",
    "    print(\"Key is alreday in dict\")\n",
    "else:\n",
    "    print(\"Key is not in dict\")"
   ]
  },
  {
   "cell_type": "code",
   "execution_count": 45,
   "id": "2cd45cd4",
   "metadata": {},
   "outputs": [
    {
     "name": "stdout",
     "output_type": "stream",
     "text": [
      "2106\n"
     ]
    }
   ],
   "source": [
    "# Write a Python program to sum all the values in a dictionary\n",
    "info = {'a': 101, 'b': 201, 'c': 301, 'd': 401, 'e': 501, 'f': 601}\n",
    "print(sum(info.values()))"
   ]
  },
  {
   "cell_type": "code",
   "execution_count": 47,
   "id": "4e443994",
   "metadata": {},
   "outputs": [
    {
     "name": "stdout",
     "output_type": "stream",
     "text": [
      "['name', 'sname', 'course']\n"
     ]
    }
   ],
   "source": [
    "# WAP tp print all the keys of dict\n",
    "dict1 = {'name': 'shital', 'sname': 'khaire', 'course': 'python'}\n",
    "print(list(dict1.keys()))\n"
   ]
  },
  {
   "cell_type": "code",
   "execution_count": 48,
   "id": "d3b7283c",
   "metadata": {},
   "outputs": [
    {
     "name": "stdout",
     "output_type": "stream",
     "text": [
      "['shital', 'khaire', 'python']\n"
     ]
    }
   ],
   "source": [
    "# Write a Python program to sum all the values in a dictionary\n",
    "dict1 = {'name': 'shital', 'sname': 'khaire', 'course': 'python'}\n",
    "print(list(dict1.values()))"
   ]
  },
  {
   "cell_type": "code",
   "execution_count": 55,
   "id": "b4115249",
   "metadata": {},
   "outputs": [
    {
     "name": "stdout",
     "output_type": "stream",
     "text": [
      "{'sname': 'khaire', 'course': 'python'}\n",
      "Enter key: sname\n",
      "remove sname\n"
     ]
    }
   ],
   "source": [
    "# Write a Python program to remove a key from a dictionary\n",
    "dict1 = {'name': 'shital', 'sname': 'khaire', 'course': 'python'}\n",
    "# dic = dict1.pop('name')\n",
    "# print(dict1)\n",
    "# another way: \n",
    "key = input(\"Enter key: \")\n",
    "if key in dict1:\n",
    "    print(f\"remove key is {key}\")\n",
    "else:\n",
    "    print(f\"Error {key} is not in dict\")\n",
    "print(dict1)"
   ]
  },
  {
   "cell_type": "code",
   "execution_count": 60,
   "id": "9664709e",
   "metadata": {},
   "outputs": [
    {
     "name": "stdout",
     "output_type": "stream",
     "text": [
      "601\n",
      "101\n"
     ]
    }
   ],
   "source": [
    "#Write a Python program to get the maximum and minimum value in a dictionary\n",
    "data = {'a': 101, 'b': 201, 'c': 301, 'd': 401, 'e': 501, 'f': 601}\n",
    "print(max(data.values()))\n",
    "print(min(data.values()))"
   ]
  },
  {
   "cell_type": "code",
   "execution_count": 7,
   "id": "4c26cd6b",
   "metadata": {},
   "outputs": [
    {
     "name": "stdout",
     "output_type": "stream",
     "text": [
      "{'a': 101, 'b': 201, 'c': 301, 'd': 300, 'e': 501, 'f': 601}\n"
     ]
    }
   ],
   "source": [
    "# Write a Python program to remove duplicate values from Dictionary\n",
    "data = {'a': 101, 'b': 201, 'c': 301, 'd': 401, 'e': 501, 'f': 601, 'a':101, 'd':300}\n",
    "temp = []\n",
    "dup = []\n",
    "for k, v in data.items():\n",
    "    if v in temp:\n",
    "        dup.keys.append(k)\n",
    "    else:\n",
    "        temp.append(v)\n",
    "for i in dup:\n",
    "    data.pop(i)\n",
    "print(data)\n"
   ]
  },
  {
   "cell_type": "code",
   "execution_count": 49,
   "id": "89dd43a4",
   "metadata": {},
   "outputs": [
    {
     "name": "stdout",
     "output_type": "stream",
     "text": [
      "It's empty\n"
     ]
    }
   ],
   "source": [
    "# Write a Python program to check a dictionary is empty or not and TRUE or FALSE\n",
    "data = {}\n",
    "if data:\n",
    "    print(\"Not empty\")\n",
    "else:\n",
    "    print(\"It's empty\")"
   ]
  },
  {
   "cell_type": "code",
   "execution_count": 12,
   "id": "ee39da08",
   "metadata": {},
   "outputs": [
    {
     "name": "stdout",
     "output_type": "stream",
     "text": [
      "{101, 201, 301, 401, 501, 601}\n"
     ]
    }
   ],
   "source": [
    "# Write a Python program to print all unique values in a dictionary\n",
    "data = {'a': 101, 'b': 201, 'c': 301, 'd': 401, 'e': 501, 'f': 601, 'r':101, 'y':201}\n",
    "print(set(data.values()))"
   ]
  },
  {
   "cell_type": "code",
   "execution_count": 14,
   "id": "deba0521",
   "metadata": {},
   "outputs": [
    {
     "name": "stdout",
     "output_type": "stream",
     "text": [
      "[401, 501, 601]\n"
     ]
    }
   ],
   "source": [
    "# Write a Python program to find the highest 3 values in a dictionary\n",
    "data = {'a': 101, 'b': 201, 'c': 301, 'd': 401, 'e': 501, 'f': 601, 'r':101, 'y':201}\n",
    "temp = list(data.values())\n",
    "temp.sort()\n",
    "print(temp[-3:])"
   ]
  },
  {
   "cell_type": "markdown",
   "id": "a9f838a3",
   "metadata": {},
   "source": [
    "# MIX"
   ]
  },
  {
   "cell_type": "code",
   "execution_count": null,
   "id": "7c73befe",
   "metadata": {},
   "outputs": [],
   "source": []
  }
 ],
 "metadata": {
  "kernelspec": {
   "display_name": "Python 3 (ipykernel)",
   "language": "python",
   "name": "python3"
  },
  "language_info": {
   "codemirror_mode": {
    "name": "ipython",
    "version": 3
   },
   "file_extension": ".py",
   "mimetype": "text/x-python",
   "name": "python",
   "nbconvert_exporter": "python",
   "pygments_lexer": "ipython3",
   "version": "3.9.13"
  }
 },
 "nbformat": 4,
 "nbformat_minor": 5
}
