{
 "cells": [
  {
   "cell_type": "markdown",
   "id": "8e55f557",
   "metadata": {},
   "source": [
    "# Mixed structures"
   ]
  },
  {
   "cell_type": "code",
   "execution_count": 6,
   "id": "30ab868f",
   "metadata": {},
   "outputs": [
    {
     "name": "stdout",
     "output_type": "stream",
     "text": [
      "9\n",
      "[6, 7, 8, [8, 9, 7], [1, 2, 3, 4]]\n"
     ]
    }
   ],
   "source": [
    "# List of list\n",
    "list1 = [1,2,3,4]\n",
    "list2 = [6,7,8,[8,9,7],list1]\n",
    "print(list2[3][1])\n",
    "print(list2)"
   ]
  },
  {
   "cell_type": "code",
   "execution_count": 8,
   "id": "74bce709",
   "metadata": {},
   "outputs": [
    {
     "name": "stdout",
     "output_type": "stream",
     "text": [
      "1\n"
     ]
    }
   ],
   "source": [
    "print(list2[-2].count(9))"
   ]
  },
  {
   "cell_type": "code",
   "execution_count": 9,
   "id": "f13402c7",
   "metadata": {},
   "outputs": [
    {
     "name": "stdout",
     "output_type": "stream",
     "text": [
      "[4, 5, 6, {'c': 'course', 'name': 'shital'}]\n"
     ]
    }
   ],
   "source": [
    "# List of dict\n",
    "data = [4,5,6, {'c': 'course', 'name':'shital'}]\n",
    "print(data)"
   ]
  },
  {
   "cell_type": "code",
   "execution_count": 10,
   "id": "c843165c",
   "metadata": {},
   "outputs": [
    {
     "name": "stdout",
     "output_type": "stream",
     "text": [
      "4\n"
     ]
    }
   ],
   "source": [
    "print(data[0])"
   ]
  },
  {
   "cell_type": "code",
   "execution_count": 11,
   "id": "575d9610",
   "metadata": {},
   "outputs": [
    {
     "name": "stdout",
     "output_type": "stream",
     "text": [
      "{'c': 'course', 'name': 'shital'}\n"
     ]
    }
   ],
   "source": [
    "print(data[3])"
   ]
  },
  {
   "cell_type": "code",
   "execution_count": 18,
   "id": "b38d3466",
   "metadata": {},
   "outputs": [
    {
     "name": "stdout",
     "output_type": "stream",
     "text": [
      "{'a': 'Arush', 'b': 'Baner'}\n"
     ]
    }
   ],
   "source": [
    "dict1 = {'a': 'Arush', 'b': 'Baner'}\n",
    "list2 = [1,2,3,{'c': 'course','d':'Dinesh'}, dict1]\n",
    "print(list2[4])"
   ]
  },
  {
   "cell_type": "code",
   "execution_count": 22,
   "id": "a4a4c6a7",
   "metadata": {},
   "outputs": [
    {
     "name": "stdout",
     "output_type": "stream",
     "text": [
      "COURSE\n"
     ]
    }
   ],
   "source": [
    "print(list2[3]['c'].upper())"
   ]
  },
  {
   "cell_type": "code",
   "execution_count": 27,
   "id": "3d9d9a14",
   "metadata": {},
   "outputs": [
    {
     "name": "stdout",
     "output_type": "stream",
     "text": [
      "[1, 2, 3, {'c': 'course', 'd': 'Dinesh'}, {'a': 'Arush', 'b': 'Bharti'}]\n"
     ]
    }
   ],
   "source": [
    "list2[4]['b']= 'Bharti'\n",
    "print(list2)"
   ]
  },
  {
   "cell_type": "code",
   "execution_count": 28,
   "id": "f3e139bc",
   "metadata": {},
   "outputs": [
    {
     "name": "stdout",
     "output_type": "stream",
     "text": [
      "{'a': 'Arush', 'b': 'Bharti'}\n"
     ]
    }
   ],
   "source": [
    "print(dict1)"
   ]
  },
  {
   "cell_type": "code",
   "execution_count": 29,
   "id": "32556e44",
   "metadata": {},
   "outputs": [
    {
     "name": "stdout",
     "output_type": "stream",
     "text": [
      "Dinesh\n"
     ]
    }
   ],
   "source": [
    "print(list2[3]['d'])"
   ]
  },
  {
   "cell_type": "code",
   "execution_count": 5,
   "id": "0c4cffb0",
   "metadata": {},
   "outputs": [
    {
     "name": "stdout",
     "output_type": "stream",
     "text": [
      "{'a': 'python', 'b': [1, 2, 3], 'c': ['shital', 'Khaire']}\n"
     ]
    }
   ],
   "source": [
    "# dict of list\n",
    "dict1 = {'a': 'python', 'b': [1,2,3], 'c': ['shital', 'Khaire']}\n",
    "print(dict1)"
   ]
  },
  {
   "cell_type": "code",
   "execution_count": 10,
   "id": "4589225f",
   "metadata": {},
   "outputs": [
    {
     "name": "stdout",
     "output_type": "stream",
     "text": [
      "{'a': 'python', 'b': [1, 2, 3], 'c': ['shital', 'Khaire', 'Baner']}\n"
     ]
    }
   ],
   "source": [
    "dict1['c'].append('Baner')\n",
    "print(dict1)"
   ]
  },
  {
   "cell_type": "code",
   "execution_count": 22,
   "id": "b4c3026d",
   "metadata": {},
   "outputs": [
    {
     "name": "stdout",
     "output_type": "stream",
     "text": [
      "{'name': 'shital', 'c': {'P': 'Python', 'J': 'Java'}}\n"
     ]
    }
   ],
   "source": [
    "# dict of dict\n",
    "data = {'name':'shital', 'c': {'P': 'Python', 'J': 'Java'}}\n",
    "print(data)"
   ]
  },
  {
   "cell_type": "code",
   "execution_count": 21,
   "id": "48cd3c9f",
   "metadata": {},
   "outputs": [
    {
     "name": "stdout",
     "output_type": "stream",
     "text": [
      "Python\n"
     ]
    }
   ],
   "source": [
    "print(data['c']['P'])\n"
   ]
  },
  {
   "cell_type": "code",
   "execution_count": 26,
   "id": "dfa5b065",
   "metadata": {},
   "outputs": [
    {
     "name": "stdout",
     "output_type": "stream",
     "text": [
      "{'1': {'name': 'Rahul', 'course': 'python'}, '2': {'name': 'om', 'Course': ['AWS', 'python']}}\n"
     ]
    }
   ],
   "source": [
    "stu_info = {'1': {'name': 'Rahul', 'course': 'python'},\n",
    "           '2': {'name': 'om', 'Course': 'AWS'}}\n",
    "p = 'Python'\n",
    "stu_info['2']['Course'] = [stu_info['2']['Course'],'python']\n",
    "print(stu_info)"
   ]
  },
  {
   "cell_type": "markdown",
   "id": "ea1c6076",
   "metadata": {},
   "source": [
    "- 2 bank account no, \n",
    "    - name\n",
    "    - city\n",
    "    - bal\n",
    "    - loan accounts- 2\n",
    "        - type\n",
    "        - interst rate\n",
    "        - outstanding amount\n",
    "    "
   ]
  },
  {
   "cell_type": "code",
   "execution_count": 4,
   "id": "948a9c62",
   "metadata": {},
   "outputs": [
    {
     "name": "stdout",
     "output_type": "stream",
     "text": [
      "{'123': {'Name': 'HDFC', 'city': 'Baner', 'Bal': 30000, 'Loan_accounts': {'1': {'type': 'Personal', 'intrest': '8%', 'outstanding_amount': 25000}, '2': {'type': ' Personal', 'intrest': '10%', 'outstanding_amount': 30000}}}, '124': {'Name': 'AXIS', 'city': 'pune', 'Bal': 33000, 'Loan_accounts': {'3': {'type': 'Personal', 'intrest': '6%', 'outstanding_amount': 26000}, '4': {'type': 'Personal', 'intrest': '7%', 'outstanding_amount': 31000}}}}\n",
      "Enter account number: 123\n",
      "Balance is 30000\n",
      "10%\n"
     ]
    }
   ],
   "source": [
    "bank_detail = {'123': {'Name': 'HDFC',\n",
    "                       'city': 'Baner', \n",
    "                       'Bal': 30000,\n",
    "                       'Loan_accounts': {'1': {'type':'Personal','intrest': '8%','outstanding_amount': 25000},\n",
    "                                          '2':{'type':' Personal', 'intrest':'10%','outstanding_amount': 30000}}},\n",
    "               '124': {'Name': 'AXIS',\n",
    "                        'city': 'pune', \n",
    "                        'Bal': 33000,\n",
    "                        'Loan_accounts': {'3': {'type':'Personal','intrest': '6%','outstanding_amount': 26000},\n",
    "                                           '4': {'type':'Personal','intrest': '7%','outstanding_amount': 31000}}}}\n",
    "print(bank_detail)\n",
    "ano = input('Enter account number: ')\n",
    "bal = bank_detail[ano]['Bal']\n",
    "print('Balance is '+str(bal) )\n",
    "am = (bank_detail['123']['Loan_accounts']['2']['intrest'])\n",
    "print(am)\n"
   ]
  },
  {
   "cell_type": "code",
   "execution_count": null,
   "id": "27d99fa1",
   "metadata": {},
   "outputs": [],
   "source": [
    "# data = {}\n",
    "ano = input(\"Enter your account number: \")\n",
    "name = input(\"Enter your a name: \")\n",
    "bal = int(input(\"Enter your  bal: \"))\n",
    "cit = input(\"Enter your city: \")\n",
    "data[ano]= {'name': name,\n",
    "           'balance': bal,\n",
    "           'city': cit}\n",
    "ano = input(\"Enter your account number: \")\n",
    "name = input(\"Enter your a name: \")\n",
    "bal = int(input(\"Enter your  bal: \"))\n",
    "cit = input(\"Enter your city: \")\n",
    "data[ano]= {'name': name,\n",
    "           'balance': bal,\n",
    "           'city': cit}\n",
    "print(data)"
   ]
  },
  {
   "cell_type": "markdown",
   "id": "6ee10d1c",
   "metadata": {},
   "source": [
    "# formating string"
   ]
  },
  {
   "cell_type": "code",
   "execution_count": 43,
   "id": "f239880f",
   "metadata": {},
   "outputs": [
    {
     "name": "stdout",
     "output_type": "stream",
     "text": [
      "Hi shital, Welcome to EthansWakad for python  course by Arush\n"
     ]
    }
   ],
   "source": [
    "name = 'shital'\n",
    "course= 'python'\n",
    "inst = 'Ethans'\n",
    "branch = 'Wakad'\n",
    "mentor = 'Arush'\n",
    "msg = f\"Hi {name}, Welcome to {inst} Tr{branch} for {course}  course by {mentor}\"\n",
    "print(msg)"
   ]
  },
  {
   "cell_type": "raw",
   "id": "acdfc82d",
   "metadata": {},
   "source": [
    "Take user input to store below info:\n",
    "    - 2 train numbers\n",
    "        - source\n",
    "        -destination\n",
    "        -stoppages(multiple comma seprated\n",
    "auto fill\n",
    "    - coach type (sl,ac2,ac3)\n",
    "        - beth type(L/M/U)/ number\n",
    "            - avaiavble\n",
    "            - booked\n",
    "        \n",
    "ask useer = train no, coach type, berth type,\n",
    "output = print berth numbers that are available\n",
    "\n",
    "\n",
    "enter the berth no. to book:\n",
    "    now move the berth entered by user to booked. \n",
    "    remove from availab222le\n",
    "    print the avaiability again.\n",
    "        "
   ]
  },
  {
   "cell_type": "code",
   "execution_count": 15,
   "id": "21c78e10",
   "metadata": {},
   "outputs": [
    {
     "name": "stdout",
     "output_type": "stream",
     "text": [
      "Enter your train number: 123\n",
      "Enter your Source: sadf\n",
      "Enter your destination: adf\n",
      "Enter your stoppages: afds\n",
      "['afds']\n",
      "Enter your train_num: 123\n",
      "Enter your couch type: sl\n",
      "Enter your beth: M\n",
      "[1, 2, 3]\n",
      "Enter which beth do you want book: 2\n",
      "Updated info - {'avaliable_berth': [1, 3], 'booked': [4, 5, 6, 2]}\n"
     ]
    }
   ],
   "source": [
    "train_info = {}\n",
    "train_num = input(\"Enter your train number: \")\n",
    "source = input(\"Enter your Source: \")\n",
    "des = input(\"Enter your destination: \")\n",
    "stop = input(\"Enter your stoppages: \").split(',')\n",
    "train_info[train_num] = {\"Source\": source,\n",
    "                        'destination': des,\n",
    "                        'stop': stop,\n",
    "                        'Couch_type': {'sl': {'L':{'avaliable_berth': [1,2,3], 'booked': [4,5,6]},\n",
    "                                             \"M\": {'avaliable_berth': [1,2,3], 'booked': [4,5,6]},\n",
    "                                             'U': {'avaliable_berth': [1,2,3], 'booked': [4,5,6]}},\n",
    "                                        'ac2':{'L':{'avaliable_berth': [1,2,3],'booked': [4,5,6]},\n",
    "                                             \"M\": {'avaliable_berth': [1,2,3], 'booked': [4,5,6]},\n",
    "                                             'U': {'avaliable_berth': [1,2,3], 'booked': [4,5,6]}},\n",
    "                                        'ac3':{'L':{'avaliable_berth': [1,2,3],'booked': [4,5,6]},\n",
    "                                             \"M\": {'avaliable_berth': [1,2,3], 'booked': [4,5,6]},\n",
    "                                             'U': {'avaliable_berth': [1,2,3], 'booked': [4,5,6]}}}}\n",
    "print(train_info[train_num]['stop'])\n",
    "\n",
    "# print(train_info[train_num]['Couch_type']['sl']['M']['avaliable_berth'])\n",
    "# book_beth = int(input(\"Enter which beth do you want book: \"))\n",
    "# train_info[train_num]['Couch_type']['sl']['M']['avaliable_berth'].remove(book_beth)\n",
    "\n",
    "# train_info[train_num]['Couch_type']['sl']['M']['booked'].append(book_beth)\n",
    "# print(train_info[train_num]['Couch_type']['sl']['M']['avaliable_berth'])\n",
    "# print(train_info[train_num]['Couch_type']['sl']['M']['booked'])\n",
    "user = input(\"Enter your train_num: \")\n",
    "couch = input(\"Enter your couch type: \")\n",
    "beth = input(\"Enter your beth: \")\n",
    "ava_beth = train_info[user]['Couch_type'][couch][beth]['avaliable_berth']\n",
    "print(ava_beth)\n",
    "book_beth = int(input(\"Enter which beth do you want book: \"))\n",
    "\n",
    "train_info[user]['Couch_type'][couch][beth]['avaliable_berth'].remove(book_beth)\n",
    "\n",
    "train_info[user]['Couch_type'][couch][beth]['booked'].append(book_beth)\n",
    "\n",
    "print(f\"Updated info - {train_info[user]['Couch_type'][couch][beth]}\")\n"
   ]
  },
  {
   "cell_type": "code",
   "execution_count": null,
   "id": "1944c568",
   "metadata": {},
   "outputs": [],
   "source": [
    "train_info = {}\n",
    "train_num = input(\"Enter your train number: \")\n",
    "source = input(\"Enter your source: \")\n",
    "des = input(\"Enter your destination: \")\n",
    "stop= input(\"Enter your stoppages: \").split(',')\n",
    "\n",
    "train_info[train_num] = {\"Source\": source,\n",
    "             \"destination\": des,\n",
    "             \"Stop\": stop,\n",
    "             'Coach_type': {'sl': {'L': {'Berth_ava': [1,2,3],'booked': [4,5,6]},\n",
    "                                   'M': {'Berth_ava': [1,2,3],'booked': [4,5,6]},\n",
    "                                   'U': {'Berth_ava': [1,2,3],'booked': [4,5,6]}},\n",
    "                            'ac2': {'L': {'Berth_ava': [1,2,3],'booked': [4,5,6]},\n",
    "                                   'M': {'Berth_ava': [1,2,3],'booked': [4,5,6]},\n",
    "                                   'U': {'Berth_ava': [1,2,3],'booked': [4,5,6]}},\n",
    "                            'ac3': {'L': {'Berth_ava': [1,2,3],'booked': [4,5,6]},\n",
    "                                   'M': {'Berth_ava': [1,2,3],'booked': [4,5,6]},\n",
    "                                   'U': {'Berth_ava': [1,2,3],'booked': [4,5,6]}}}}\n",
    "train_num = input(\"Enter your train number: \")\n",
    "source = input(\"Enter your source: \")\n",
    "des = input(\"Enter your destination: \")\n",
    "stop= input(\"Enter your stoppages: \").split(',')\n",
    "\n",
    "train_info[train_num] = {\"Source\": source,\n",
    "             \"destination\": des,\n",
    "             \"Stop\": stop,\n",
    "             'Coach_type': {'sl': {'L': {'Berth_ava': [1,2,3],'booked': [4,5,6]},\n",
    "                                   'M': {'Berth_ava': [1,2,3],'booked': [4,5,6]},\n",
    "                                   'U': {'Berth_ava': [1,2,3],'booked': [4,5,6]}},\n",
    "                            'ac2': {'L': {'Berth_ava': [1,2,3],'booked': [4,5,6]},\n",
    "                                   'M': {'Berth_ava': [1,2,3],'booked': [4,5,6]},\n",
    "                                   'U': {'Berth_ava': [1,2,3],'booked': [4,5,6]}},\n",
    "                            'ac3': {'L': {'Berth_ava': [1,2,3],'booked': [4,5,6]},\n",
    "                                   'M': {'Berth_ava': [1,2,3],'booked': [4,5,6]},\n",
    "                                   'U': {'Berth_ava': [1,2,3],'booked': [4,5,6]}}}}\n",
    "user = input(\"Enter your train no: \")\n",
    "\n",
    "couch = input(\"Enter your couch type: \")\n",
    "beth = input(\"Enter your berth no: \")\n",
    "\n",
    "ava_berth = train_info[user]['Coach_type'][couch][beth]['Berth_ava']\n",
    "print(ava_berth)\n",
    "book_beth = int(input(\"Enter which berth number you want to book: \"))\n",
    "print(f\"Now move the berth no {book_beth} entered by user is booked\")\n",
    "train_info[user]['Coach_type'][couch][beth]['Berth_ava'].remove(book_beth)\n",
    "train_info[user]['Coach_type'][couch][beth]['booked'].append(book_beth)\n",
    "print(f\"Updated info - {train_info[user]['Coach_type'][couch][beth]}\")\n"
   ]
  },
  {
   "cell_type": "code",
   "execution_count": null,
   "id": "61d2041c",
   "metadata": {},
   "outputs": [],
   "source": []
  }
 ],
 "metadata": {
  "kernelspec": {
   "display_name": "Python 3 (ipykernel)",
   "language": "python",
   "name": "python3"
  },
  "language_info": {
   "codemirror_mode": {
    "name": "ipython",
    "version": 3
   },
   "file_extension": ".py",
   "mimetype": "text/x-python",
   "name": "python",
   "nbconvert_exporter": "python",
   "pygments_lexer": "ipython3",
   "version": "3.9.13"
  }
 },
 "nbformat": 4,
 "nbformat_minor": 5
}
