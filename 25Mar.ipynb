{
 "cells": [
  {
   "cell_type": "code",
   "execution_count": 1,
   "id": "62ac93a7",
   "metadata": {},
   "outputs": [
    {
     "name": "stdout",
     "output_type": "stream",
     "text": [
      "10\n"
     ]
    }
   ],
   "source": [
    "no = 10\n",
    "print(no)"
   ]
  },
  {
   "cell_type": "markdown",
   "id": "ad6c94fe",
   "metadata": {},
   "source": [
    "# divide"
   ]
  },
  {
   "cell_type": "code",
   "execution_count": 10,
   "id": "f00bfde5",
   "metadata": {},
   "outputs": [
    {
     "name": "stdout",
     "output_type": "stream",
     "text": [
      "11.0\n",
      "11\n"
     ]
    }
   ],
   "source": [
    "print(22/2) # floating \n",
    "print(23//2) # integer\n"
   ]
  },
  {
   "cell_type": "markdown",
   "id": "7fd62e76",
   "metadata": {},
   "source": [
    "# #Exponent(power)"
   ]
  },
  {
   "cell_type": "code",
   "execution_count": 11,
   "id": "cd30e5e7",
   "metadata": {},
   "outputs": [
    {
     "name": "stdout",
     "output_type": "stream",
     "text": [
      "25\n",
      "125\n"
     ]
    }
   ],
   "source": [
    "print(5*2) #10\n",
    "print(5**2)# 5*5\n",
    "print(5**3)# 5*5*5"
   ]
  },
  {
   "cell_type": "markdown",
   "id": "9a521286",
   "metadata": {},
   "source": [
    "# Modules(Remainder)"
   ]
  },
  {
   "cell_type": "code",
   "execution_count": 11,
   "id": "dfd00ae0",
   "metadata": {},
   "outputs": [
    {
     "name": "stdout",
     "output_type": "stream",
     "text": [
      "1\n",
      "0\n"
     ]
    }
   ],
   "source": [
    "print(7%2)# != 0 odd number\n",
    "print(568%2)# 0 == even number "
   ]
  },
  {
   "cell_type": "markdown",
   "id": "5a0a9300",
   "metadata": {},
   "source": [
    "# Comments in python"
   ]
  },
  {
   "cell_type": "markdown",
   "id": "1fbc87dd",
   "metadata": {},
   "source": [
    "- Single line\n",
    "- multi line\n",
    "- doc string"
   ]
  },
  {
   "cell_type": "code",
   "execution_count": 12,
   "id": "3c668ee0",
   "metadata": {},
   "outputs": [
    {
     "name": "stdout",
     "output_type": "stream",
     "text": [
      "Welcome to python course\n"
     ]
    }
   ],
   "source": [
    "# This is my first program - single line comment. \n",
    "print(\"Welcome to python course\")"
   ]
  },
  {
   "cell_type": "code",
   "execution_count": 13,
   "id": "31adfc42",
   "metadata": {},
   "outputs": [
    {
     "ename": "SyntaxError",
     "evalue": "invalid syntax (1397413890.py, line 3)",
     "output_type": "error",
     "traceback": [
      "\u001b[0;36m  File \u001b[0;32m\"/var/folders/84/q7tj08094j56md7c__crnk3c0000gp/T/ipykernel_20997/1397413890.py\"\u001b[0;36m, line \u001b[0;32m3\u001b[0m\n\u001b[0;31m    This is my first project in python\u001b[0m\n\u001b[0m               ^\u001b[0m\n\u001b[0;31mSyntaxError\u001b[0m\u001b[0;31m:\u001b[0m invalid syntax\n"
     ]
    }
   ],
   "source": [
    "print(\"Hello\")\n",
    "'''This is my first code in python\n",
    "This is my first project in python\n",
    "I learn first time python'''\n",
    "print(\"Welcome to python course\")"
   ]
  },
  {
   "cell_type": "markdown",
   "id": "7cf656e8",
   "metadata": {},
   "source": [
    "# String"
   ]
  },
  {
   "cell_type": "code",
   "execution_count": 18,
   "id": "f13672e7",
   "metadata": {},
   "outputs": [
    {
     "name": "stdout",
     "output_type": "stream",
     "text": [
      "This is first class\n",
      "we learn first day python\n"
     ]
    }
   ],
   "source": [
    "name = 'shital'\n",
    "course = \"Python\"\n",
    "Salary = \"50\"\n",
    "print(name, course, Salary)\n",
    "\n",
    "msg = '''This is first class\n",
    "we learn first day python'''\n",
    "print(msg)"
   ]
  },
  {
   "cell_type": "code",
   "execution_count": 24,
   "id": "75fed13b",
   "metadata": {},
   "outputs": [
    {
     "name": "stdout",
     "output_type": "stream",
     "text": [
      "aaa\n",
      "555\n"
     ]
    }
   ],
   "source": [
    "print('a'*3)\n",
    "print('5'*3)"
   ]
  },
  {
   "cell_type": "markdown",
   "id": "2bb6bfc4",
   "metadata": {},
   "source": [
    "- concat the string"
   ]
  },
  {
   "cell_type": "code",
   "execution_count": 21,
   "id": "a979cf05",
   "metadata": {},
   "outputs": [
    {
     "name": "stdout",
     "output_type": "stream",
     "text": [
      "85\n"
     ]
    }
   ],
   "source": [
    "a = '8'\n",
    "\n",
    "print(a + '5')"
   ]
  },
  {
   "cell_type": "code",
   "execution_count": 33,
   "id": "240eaed3",
   "metadata": {},
   "outputs": [
    {
     "name": "stdout",
     "output_type": "stream",
     "text": [
      "Enter your name: shital\n",
      "Hello shital\n",
      "<class 'str'>\n"
     ]
    }
   ],
   "source": [
    "name = input(\"Enter your name: \")\n",
    "print(\"Hello \" + name)\n",
    "print(type(name))"
   ]
  },
  {
   "cell_type": "markdown",
   "id": "2fa3e2b2",
   "metadata": {},
   "source": [
    "- input will always give output as string"
   ]
  },
  {
   "cell_type": "code",
   "execution_count": 31,
   "id": "4a04911f",
   "metadata": {},
   "outputs": [
    {
     "name": "stdout",
     "output_type": "stream",
     "text": [
      "Enter your age:23\n",
      "23\n",
      "<class 'int'>\n"
     ]
    }
   ],
   "source": [
    "name = int(input(\"Enter your age:\"))\n",
    "print(name)\n",
    "print(type(name))"
   ]
  },
  {
   "cell_type": "markdown",
   "id": "de467c45",
   "metadata": {},
   "source": [
    "- que = Print a cafe Menu card and ask one item for order and print \"we will soon server your : Tea\""
   ]
  },
  {
   "cell_type": "code",
   "execution_count": 5,
   "id": "8fdf17d2",
   "metadata": {
    "scrolled": true
   },
   "outputs": [
    {
     "name": "stdout",
     "output_type": "stream",
     "text": [
      "Please Enter your order: Coffee\n",
      "We will soon serve your:  Coffee\n"
     ]
    }
   ],
   "source": [
    "Menu_Card = \"\"\"Tea, Coffee, Soft-dring, Sandwich,\n",
    "Samosa, Vada-pav, Dosa, Idali, Green- Tea\"\"\"\n",
    "order = input(\"Please Enter your order: \")\n",
    "print(\"We will soon serve your: \" , order)"
   ]
  },
  {
   "cell_type": "code",
   "execution_count": 4,
   "id": "a4fdff9a",
   "metadata": {},
   "outputs": [
    {
     "name": "stdout",
     "output_type": "stream",
     "text": [
      "Enter your order : Sandwich\n",
      "We will soon sever your: Sandwich\n"
     ]
    }
   ],
   "source": [
    "Menu_card = (\"Tea\", \"Soft-drink\", \"Dosa\", \"Idaly\", \"Vadapav\",\n",
    "\"Coffee\", \"Samosa\", \"Sandwich\", \"Green-tea\", \"Black tea\")\n",
    "order = input(\"Enter your order : \")\n",
    "for item in Menu_card:\n",
    "    if order in item:\n",
    "        print(\"We will soon serve your:\", item)\n",
    "        break\n",
    "else:\n",
    "    print(\"Please order again this menu is not available in menu-card.\")\n"
   ]
  },
  {
   "cell_type": "code",
   "execution_count": null,
   "id": "8d546a14",
   "metadata": {},
   "outputs": [],
   "source": []
  }
 ],
 "metadata": {
  "kernelspec": {
   "display_name": "Python 3 (ipykernel)",
   "language": "python",
   "name": "python3"
  },
  "language_info": {
   "codemirror_mode": {
    "name": "ipython",
    "version": 3
   },
   "file_extension": ".py",
   "mimetype": "text/x-python",
   "name": "python",
   "nbconvert_exporter": "python",
   "pygments_lexer": "ipython3",
   "version": "3.9.13"
  }
 },
 "nbformat": 4,
 "nbformat_minor": 5
}
