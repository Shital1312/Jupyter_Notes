{
 "cells": [
  {
   "cell_type": "markdown",
   "id": "33cdf9c6",
   "metadata": {},
   "source": [
    "# Loops"
   ]
  },
  {
   "cell_type": "markdown",
   "id": "5422dfbd",
   "metadata": {},
   "source": [
    "- Conditional Loop (While)\n",
    "- Iteration Loop (For loop)"
   ]
  },
  {
   "cell_type": "code",
   "execution_count": 4,
   "id": "706407d9",
   "metadata": {},
   "outputs": [
    {
     "name": "stdout",
     "output_type": "stream",
     "text": [
      "1\n",
      "2\n",
      "3\n",
      "4\n",
      "5\n",
      "6\n",
      "7\n",
      "8\n",
      "9\n",
      "10\n",
      "Hi\n"
     ]
    }
   ],
   "source": [
    "# print from 1 to 10:\n",
    "count = 1\n",
    "while count <= 10:\n",
    "    print(count)\n",
    "    count = count + 1\n",
    "print('Hi')\n",
    "    "
   ]
  },
  {
   "cell_type": "markdown",
   "id": "62aaaec1",
   "metadata": {},
   "source": [
    "-'''\n",
    "*\n",
    "**\n",
    "***\n",
    "****\n",
    "*****'''"
   ]
  },
  {
   "cell_type": "code",
   "execution_count": 8,
   "id": "58a74b2a",
   "metadata": {},
   "outputs": [
    {
     "name": "stdout",
     "output_type": "stream",
     "text": [
      "*\n",
      "**\n",
      "***\n",
      "****\n",
      "*****\n"
     ]
    }
   ],
   "source": [
    "\n",
    "count = 1\n",
    "while count <= 5:\n",
    "    print('*' * count)\n",
    "    count = count+1"
   ]
  },
  {
   "cell_type": "code",
   "execution_count": 7,
   "id": "f1b1ffa5",
   "metadata": {},
   "outputs": [
    {
     "name": "stdout",
     "output_type": "stream",
     "text": [
      "   *   \n",
      "  ***  \n",
      " ***** \n",
      "*******\n",
      "   |   \n"
     ]
    }
   ],
   "source": [
    "count = 1\n",
    "width = 7\n",
    "while count <= 7:\n",
    "    pattern = '*' * count\n",
    "    print(pattern.center(width))\n",
    "    count = count+2\n",
    "print('|'.center(width))"
   ]
  },
  {
   "cell_type": "code",
   "execution_count": 4,
   "id": "19f16a82",
   "metadata": {},
   "outputs": [
    {
     "name": "stdout",
     "output_type": "stream",
     "text": [
      "*>>**>>***>>****>>*****>>"
     ]
    }
   ],
   "source": [
    "count = 1\n",
    "while count <=5:\n",
    "    print('*' * count,end='>>')\n",
    "    count= count+1"
   ]
  },
  {
   "cell_type": "markdown",
   "id": "51029e6c",
   "metadata": {},
   "source": [
    "# For Loop"
   ]
  },
  {
   "cell_type": "code",
   "execution_count": 9,
   "id": "7f492d5e",
   "metadata": {},
   "outputs": [
    {
     "name": "stdout",
     "output_type": "stream",
     "text": [
      "Welcome to todays class"
     ]
    }
   ],
   "source": [
    "msg = 'Welcome to todays class'\n",
    "for char in msg:\n",
    "    print(char, end= '')"
   ]
  },
  {
   "cell_type": "code",
   "execution_count": 10,
   "id": "4227b38a",
   "metadata": {},
   "outputs": [
    {
     "name": "stdout",
     "output_type": "stream",
     "text": [
      "om\n",
      "raj\n",
      "yash\n"
     ]
    }
   ],
   "source": [
    "list1 =['om', 'raj', 'yash']\n",
    "for i in list1:\n",
    "    print(i)"
   ]
  },
  {
   "cell_type": "code",
   "execution_count": 14,
   "id": "7fde846f",
   "metadata": {},
   "outputs": [
    {
     "name": "stdout",
     "output_type": "stream",
     "text": [
      "a\n",
      "b\n",
      "1\n",
      "2\n",
      "a 1\n",
      "b 2\n"
     ]
    }
   ],
   "source": [
    "dict1 = {'a':1, 'b':2}\n",
    "for i in dict1:\n",
    "    print(i)\n",
    "for i in dict1.values():\n",
    "    print(i)\n",
    "for x, y in dict1.items():\n",
    "    print(x,y)"
   ]
  },
  {
   "cell_type": "markdown",
   "id": "89aeea69",
   "metadata": {},
   "source": [
    "## Break and Continue"
   ]
  },
  {
   "cell_type": "markdown",
   "id": "54f08f9b",
   "metadata": {},
   "source": [
    "## Assignment to do train code with retry option."
   ]
  },
  {
   "cell_type": "code",
   "execution_count": 32,
   "id": "295da63a",
   "metadata": {},
   "outputs": [
    {
     "name": "stdout",
     "output_type": "stream",
     "text": [
      "om-->2\n",
      "2-->1\n",
      "3-->3\n"
     ]
    }
   ],
   "source": [
    "list1 = ['om',3,3,'om',2,3]\n",
    "for i in set(list1):\n",
    "    print(f\"{i}-->{list1.count(i)}\")\n"
   ]
  },
  {
   "cell_type": "code",
   "execution_count": 40,
   "id": "68fe6759",
   "metadata": {},
   "outputs": [
    {
     "name": "stdout",
     "output_type": "stream",
     "text": [
      "3\n"
     ]
    }
   ],
   "source": [
    "def smallest(a,b,c):\n",
    "    if a < b and b < c:\n",
    "        print(a)\n",
    "    elif a < b and b > c:\n",
    "        print(b)\n",
    "    else:\n",
    "        print(c)\n",
    "smallest(3,4,5)"
   ]
  },
  {
   "cell_type": "code",
   "execution_count": 41,
   "id": "fff1a8c1",
   "metadata": {},
   "outputs": [
    {
     "name": "stdout",
     "output_type": "stream",
     "text": [
      "6\n"
     ]
    }
   ],
   "source": [
    "smallest(6,7,8)"
   ]
  },
  {
   "cell_type": "code",
   "execution_count": 14,
   "id": "f339cf7f",
   "metadata": {},
   "outputs": [
    {
     "data": {
      "text/plain": [
       "4"
      ]
     },
     "execution_count": 14,
     "metadata": {},
     "output_type": "execute_result"
    }
   ],
   "source": [
    "def small(a,b,c):\n",
    "    return min(a,b,c)\n",
    "\n",
    "small(4,5,6)"
   ]
  },
  {
   "cell_type": "code",
   "execution_count": null,
   "id": "27b26368",
   "metadata": {},
   "outputs": [],
   "source": []
  },
  {
   "cell_type": "code",
   "execution_count": null,
   "id": "e0be2e97",
   "metadata": {},
   "outputs": [],
   "source": []
  }
 ],
 "metadata": {
  "kernelspec": {
   "display_name": "Python 3 (ipykernel)",
   "language": "python",
   "name": "python3"
  },
  "language_info": {
   "codemirror_mode": {
    "name": "ipython",
    "version": 3
   },
   "file_extension": ".py",
   "mimetype": "text/x-python",
   "name": "python",
   "nbconvert_exporter": "python",
   "pygments_lexer": "ipython3",
   "version": "3.9.13"
  }
 },
 "nbformat": 4,
 "nbformat_minor": 5
}
