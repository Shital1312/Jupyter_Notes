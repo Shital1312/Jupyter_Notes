{
 "cells": [
  {
   "cell_type": "markdown",
   "id": "281660df",
   "metadata": {},
   "source": [
    "# List"
   ]
  },
  {
   "cell_type": "markdown",
   "id": "38fcc7ea",
   "metadata": {},
   "source": [
    "- Collection\n",
    "- Indexed\n",
    "- Ordered\n",
    "- Mutable\n",
    "\n",
    "    - update/Edit the value\n",
    "    - add a element\n",
    "        - at the end(append)\n",
    "        - nth index number\n",
    "    - order change\n",
    "    - delete the element\n",
    "        -  index number (pop)\n",
    "        - value (remove)\n",
    "        "
   ]
  },
  {
   "cell_type": "markdown",
   "id": "083ce2cd",
   "metadata": {},
   "source": [
    "- How to create a list?\n",
    "    - Edit / update the value"
   ]
  },
  {
   "cell_type": "code",
   "execution_count": 2,
   "id": "2c52e332",
   "metadata": {},
   "outputs": [
    {
     "name": "stdout",
     "output_type": "stream",
     "text": [
      "[1, 2, 'Sonali', 'Shital', 'Tejus', 'Arti']\n",
      "<class 'list'>\n"
     ]
    }
   ],
   "source": [
    "names = [1, 2, 'Sonali', 'Shital', 'Tejus', 'Arti']\n",
    "print(names)\n",
    "print(type(names))"
   ]
  },
  {
   "cell_type": "code",
   "execution_count": 3,
   "id": "6b1549d7",
   "metadata": {},
   "outputs": [
    {
     "name": "stdout",
     "output_type": "stream",
     "text": [
      "Tejus\n"
     ]
    }
   ],
   "source": [
    "print(names[-2])"
   ]
  },
  {
   "cell_type": "code",
   "execution_count": 4,
   "id": "58aaef0e",
   "metadata": {},
   "outputs": [
    {
     "name": "stdout",
     "output_type": "stream",
     "text": [
      "['Sonali', 'Shital', 'Tejus', [1, 2, 3]]\n"
     ]
    }
   ],
   "source": [
    "names = ['Sonali', 'Parvinder', 'Tejus', 'Arti']\n",
    "names[1]= 'Shital'\n",
    "names[-1] = [1, 2, 3]\n",
    "print(names)"
   ]
  },
  {
   "cell_type": "code",
   "execution_count": 5,
   "id": "8e3dc730",
   "metadata": {},
   "outputs": [
    {
     "name": "stdout",
     "output_type": "stream",
     "text": [
      "3\n"
     ]
    }
   ],
   "source": [
    "print(names[-1][2])"
   ]
  },
  {
   "cell_type": "markdown",
   "id": "88fada85",
   "metadata": {},
   "source": [
    "- add the element\n",
    "    - append() = add the element in the last.\n",
    "    - insert() = add the element select index the insert the value."
   ]
  },
  {
   "cell_type": "code",
   "execution_count": 6,
   "id": "624d9609",
   "metadata": {},
   "outputs": [
    {
     "name": "stdout",
     "output_type": "stream",
     "text": [
      "['Sonali', 'Shital', 'Tejus', [1, 2, 3], 'Sagar']\n"
     ]
    }
   ],
   "source": [
    "# Add the single element at the end\n",
    "names.append('Sagar')\n",
    "print(names)"
   ]
  },
  {
   "cell_type": "code",
   "execution_count": 7,
   "id": "3e9cb8c9",
   "metadata": {},
   "outputs": [
    {
     "name": "stdout",
     "output_type": "stream",
     "text": [
      "['Sonali', 'Shital', 'Pravin', 'Tejus', [1, 2, 3], 'Sagar']\n"
     ]
    }
   ],
   "source": [
    "names.insert(2, 'Pravin')\n",
    "print(names)"
   ]
  },
  {
   "cell_type": "markdown",
   "id": "ee850dd0",
   "metadata": {},
   "source": [
    "- delete\n",
    "- remove"
   ]
  },
  {
   "cell_type": "code",
   "execution_count": 8,
   "id": "ba2768a3",
   "metadata": {},
   "outputs": [
    {
     "name": "stdout",
     "output_type": "stream",
     "text": [
      "['Sonali', 'Shital', 'Tejus', [1, 2, 3], 'Sagar']\n",
      "Pravin\n"
     ]
    }
   ],
   "source": [
    "data = names.pop(2)\n",
    "print(names)\n",
    "print(data)"
   ]
  },
  {
   "cell_type": "code",
   "execution_count": 2,
   "id": "edef0e01",
   "metadata": {},
   "outputs": [
    {
     "name": "stdout",
     "output_type": "stream",
     "text": [
      "['shital', 'priya', 'om', 'RAJ', 'om']\n"
     ]
    }
   ],
   "source": [
    "list1 = ['shital','priya', 'om', 'om', 'RAJ', 'om']\n",
    "list1.remove('om')\n",
    "print(list1)"
   ]
  },
  {
   "cell_type": "code",
   "execution_count": 17,
   "id": "cc8f4227",
   "metadata": {},
   "outputs": [
    {
     "name": "stdout",
     "output_type": "stream",
     "text": [
      "['om', 'RAJ', 'om', 'priya', 'shital']\n"
     ]
    }
   ],
   "source": [
    "list1.reverse()\n",
    "print(list1)"
   ]
  },
  {
   "cell_type": "code",
   "execution_count": 18,
   "id": "11b3eb30",
   "metadata": {},
   "outputs": [
    {
     "name": "stdout",
     "output_type": "stream",
     "text": [
      "['RAJ', 'om', 'om', 'priya', 'shital']\n"
     ]
    }
   ],
   "source": [
    "list1.sort()\n",
    "print(list1)"
   ]
  },
  {
   "cell_type": "code",
   "execution_count": 23,
   "id": "c5aa8da7",
   "metadata": {},
   "outputs": [
    {
     "name": "stdout",
     "output_type": "stream",
     "text": [
      "111\n",
      "79\n"
     ]
    }
   ],
   "source": [
    "print(ord('o'))\n",
    "print(ord('O'))"
   ]
  },
  {
   "cell_type": "code",
   "execution_count": 4,
   "id": "fe617643",
   "metadata": {},
   "outputs": [
    {
     "name": "stdout",
     "output_type": "stream",
     "text": [
      "[67, 56, 45, 44, 32, 23]\n"
     ]
    }
   ],
   "source": [
    "list2 = [44,32,23,45,56,67]\n",
    "\n",
    "list2.sort(reverse = True)# utarta kram\n",
    "print(list2)"
   ]
  },
  {
   "cell_type": "code",
   "execution_count": 5,
   "id": "049c80c8",
   "metadata": {},
   "outputs": [
    {
     "name": "stdout",
     "output_type": "stream",
     "text": [
      "[23, 32, 44, 45, 56, 67]\n"
     ]
    }
   ],
   "source": [
    "list2.sort(reverse = False) # chadta kram\n",
    "print(list2)"
   ]
  },
  {
   "cell_type": "code",
   "execution_count": 6,
   "id": "1b62a5d4",
   "metadata": {},
   "outputs": [
    {
     "name": "stdout",
     "output_type": "stream",
     "text": [
      "97\n",
      "65\n"
     ]
    }
   ],
   "source": [
    "print(ord('a'))\n",
    "print(ord('A'))"
   ]
  },
  {
   "cell_type": "code",
   "execution_count": 8,
   "id": "eb32bd8b",
   "metadata": {},
   "outputs": [
    {
     "name": "stdout",
     "output_type": "stream",
     "text": [
      "6\n",
      "1\n"
     ]
    }
   ],
   "source": [
    "print(len(list2))\n",
    "print(list2.count(44))"
   ]
  },
  {
   "cell_type": "markdown",
   "id": "c39878be",
   "metadata": {},
   "source": [
    "- count()\n",
    "- "
   ]
  },
  {
   "cell_type": "code",
   "execution_count": 2,
   "id": "8af2f681",
   "metadata": {},
   "outputs": [
    {
     "name": "stdout",
     "output_type": "stream",
     "text": [
      "[1, 2, 3, 4, [5, 6, 7]]\n"
     ]
    }
   ],
   "source": [
    "list1 = [1,2,3,4]\n",
    "list2 = [5,6,7]\n",
    "list1.append(list2)\n",
    "print(list1)"
   ]
  },
  {
   "cell_type": "code",
   "execution_count": 8,
   "id": "937aa561",
   "metadata": {},
   "outputs": [
    {
     "name": "stdout",
     "output_type": "stream",
     "text": [
      "[5, 6, 7]\n",
      "[1, 2, 3, 4]\n"
     ]
    }
   ],
   "source": [
    "print(list1.pop(-1))\n",
    "print(list1)"
   ]
  },
  {
   "cell_type": "code",
   "execution_count": 9,
   "id": "6bd7d5af",
   "metadata": {},
   "outputs": [
    {
     "name": "stdout",
     "output_type": "stream",
     "text": [
      "[1, 2, 3, 4, 's', 'u', 'r', 'a', 'j']\n"
     ]
    }
   ],
   "source": [
    "# extend : breaks the word.\n",
    "name = 'suraj'\n",
    "list1.extend(name)\n",
    "print(list1)"
   ]
  },
  {
   "cell_type": "code",
   "execution_count": 10,
   "id": "b9e902de",
   "metadata": {},
   "outputs": [
    {
     "ename": "IndexError",
     "evalue": "list assignment index out of range",
     "output_type": "error",
     "traceback": [
      "\u001b[0;31m---------------------------------------------------------------------------\u001b[0m",
      "\u001b[0;31mIndexError\u001b[0m                                Traceback (most recent call last)",
      "\u001b[0;32m/var/folders/84/q7tj08094j56md7c__crnk3c0000gp/T/ipykernel_25118/1544543841.py\u001b[0m in \u001b[0;36m<module>\u001b[0;34m\u001b[0m\n\u001b[1;32m      1\u001b[0m \u001b[0mlist1\u001b[0m \u001b[0;34m=\u001b[0m \u001b[0;34m[\u001b[0m\u001b[0;36m1\u001b[0m\u001b[0;34m,\u001b[0m\u001b[0;36m2\u001b[0m\u001b[0;34m,\u001b[0m\u001b[0;36m3\u001b[0m\u001b[0;34m,\u001b[0m\u001b[0;36m4\u001b[0m\u001b[0;34m]\u001b[0m\u001b[0;34m\u001b[0m\u001b[0;34m\u001b[0m\u001b[0m\n\u001b[0;32m----> 2\u001b[0;31m \u001b[0mlist1\u001b[0m\u001b[0;34m[\u001b[0m\u001b[0;36m4\u001b[0m\u001b[0;34m]\u001b[0m \u001b[0;34m=\u001b[0m \u001b[0;34m'Dipti'\u001b[0m\u001b[0;34m\u001b[0m\u001b[0;34m\u001b[0m\u001b[0m\n\u001b[0m\u001b[1;32m      3\u001b[0m \u001b[0mprint\u001b[0m\u001b[0;34m(\u001b[0m\u001b[0mlist1\u001b[0m\u001b[0;34m)\u001b[0m\u001b[0;34m\u001b[0m\u001b[0;34m\u001b[0m\u001b[0m\n",
      "\u001b[0;31mIndexError\u001b[0m: list assignment index out of range"
     ]
    }
   ],
   "source": [
    "list1 = [1,2,3,4]\n",
    "list1[4] = 'Dipti'\n",
    "print(list1)"
   ]
  },
  {
   "cell_type": "markdown",
   "id": "55ca6f02",
   "metadata": {},
   "source": [
    "# Tuple\n"
   ]
  },
  {
   "cell_type": "markdown",
   "id": "d518c657",
   "metadata": {},
   "source": [
    "- collection\n",
    "- index\n",
    "- ordered\n",
    "- immutable"
   ]
  },
  {
   "cell_type": "code",
   "execution_count": 7,
   "id": "5990b5d2",
   "metadata": {},
   "outputs": [],
   "source": [
    "names = ('Ethans', 'Wakad', 'Pune')"
   ]
  },
  {
   "cell_type": "code",
   "execution_count": 8,
   "id": "c0a1f960",
   "metadata": {},
   "outputs": [
    {
     "name": "stdout",
     "output_type": "stream",
     "text": [
      "('Ethans', 'Wakad', 'Pune')\n",
      "<class 'tuple'>\n"
     ]
    }
   ],
   "source": [
    "print(names)\n",
    "print(type(names))"
   ]
  },
  {
   "cell_type": "code",
   "execution_count": 9,
   "id": "4b548f08",
   "metadata": {},
   "outputs": [
    {
     "name": "stdout",
     "output_type": "stream",
     "text": [
      "Pune\n",
      "Pune\n"
     ]
    }
   ],
   "source": [
    "print(names[2])\n",
    "print(names[-1])"
   ]
  },
  {
   "cell_type": "markdown",
   "id": "cd162ee8",
   "metadata": {},
   "source": [
    "- count()\n",
    "- len()"
   ]
  },
  {
   "cell_type": "code",
   "execution_count": 11,
   "id": "9e22e751",
   "metadata": {},
   "outputs": [
    {
     "data": {
      "text/plain": [
       "1"
      ]
     },
     "execution_count": 11,
     "metadata": {},
     "output_type": "execute_result"
    }
   ],
   "source": [
    "names.count('Ethans')"
   ]
  },
  {
   "cell_type": "code",
   "execution_count": 16,
   "id": "5af96b4a",
   "metadata": {},
   "outputs": [
    {
     "data": {
      "text/plain": [
       "3"
      ]
     },
     "execution_count": 16,
     "metadata": {},
     "output_type": "execute_result"
    }
   ],
   "source": [
    "len(names)\n"
   ]
  },
  {
   "cell_type": "code",
   "execution_count": 21,
   "id": "08da6648",
   "metadata": {},
   "outputs": [
    {
     "name": "stdout",
     "output_type": "stream",
     "text": [
      "(1, 2, 3, 'shital', [1, 2, 3])\n"
     ]
    }
   ],
   "source": [
    "names = (1,2,3, 'shital', [1,2,3])\n",
    "print(names)\n",
    "print(names[])"
   ]
  },
  {
   "cell_type": "markdown",
   "id": "1ff565cd",
   "metadata": {},
   "source": [
    "- tuple performance is faster than list\n",
    "- tuple in immutable and list is mutable"
   ]
  },
  {
   "cell_type": "markdown",
   "id": "f92ee34a",
   "metadata": {},
   "source": [
    "# Sets"
   ]
  },
  {
   "cell_type": "markdown",
   "id": "a2b7825d",
   "metadata": {},
   "source": [
    "- collection\n",
    "- unindexed\n",
    "- unorderd\n",
    "- unique values only\n",
    "- mutable"
   ]
  },
  {
   "cell_type": "code",
   "execution_count": 23,
   "id": "610ae032",
   "metadata": {},
   "outputs": [
    {
     "name": "stdout",
     "output_type": "stream",
     "text": [
      "{'Ethans', 3, 4, 5, 'wakad'}\n"
     ]
    }
   ],
   "source": [
    "names = {'Ethans', 'wakad', 5,4,3}\n",
    "print(names)"
   ]
  },
  {
   "cell_type": "code",
   "execution_count": 24,
   "id": "3fdb3e6f",
   "metadata": {},
   "outputs": [
    {
     "name": "stdout",
     "output_type": "stream",
     "text": [
      "{'Ethans', 3, 4, 5, 'Pune', 'wakad'}\n"
     ]
    }
   ],
   "source": [
    "names.add('Pune')\n",
    "print(names)"
   ]
  },
  {
   "cell_type": "code",
   "execution_count": 25,
   "id": "7b37d079",
   "metadata": {},
   "outputs": [
    {
     "name": "stdout",
     "output_type": "stream",
     "text": [
      "{3, 4, 5, 'Pune'}\n"
     ]
    }
   ],
   "source": [
    "names.remove('wakad')\n",
    "names.pop()\n",
    "print(names)"
   ]
  },
  {
   "cell_type": "markdown",
   "id": "f0d2dde9",
   "metadata": {},
   "source": [
    "- "
   ]
  },
  {
   "cell_type": "code",
   "execution_count": 29,
   "id": "eb70aec4",
   "metadata": {},
   "outputs": [
    {
     "name": "stdout",
     "output_type": "stream",
     "text": [
      "{'Raj', 'priya'}\n",
      "{'ravi', 'riya'}\n",
      "{'om'}\n",
      "{'om', 'Raj', 'riya', 'priya', 'ravi'}\n"
     ]
    }
   ],
   "source": [
    "emp = {'om', 'Raj', 'priya'}\n",
    "mag = {'om', 'riya', 'ravi'}\n",
    "print(emp-mag)\n",
    "print(mag-emp)\n",
    "print(mag & emp)\n",
    "print(mag | emp)"
   ]
  },
  {
   "cell_type": "code",
   "execution_count": 33,
   "id": "d375918b",
   "metadata": {},
   "outputs": [
    {
     "name": "stdout",
     "output_type": "stream",
     "text": [
      "{1, 2, 3, 4}\n"
     ]
    }
   ],
   "source": [
    "s = {1,2,3,4,2}\n",
    "print(s)"
   ]
  },
  {
   "cell_type": "markdown",
   "id": "1363e3ad",
   "metadata": {},
   "source": [
    "# DICT"
   ]
  },
  {
   "cell_type": "markdown",
   "id": "6bf8c864",
   "metadata": {},
   "source": [
    "- Collection\n",
    "- Ordered\n",
    "- Indexed(key)\n",
    "- Mutable\n",
    "- key - value pair\n",
    "- key are unique\n",
    "- key can be int/str/tuble = key is immutable\n"
   ]
  },
  {
   "cell_type": "code",
   "execution_count": 35,
   "id": "632fdaa0",
   "metadata": {},
   "outputs": [
    {
     "name": "stdout",
     "output_type": "stream",
     "text": [
      "{'name': 'shital', 'age': 30, 'class': 'Python'}\n"
     ]
    }
   ],
   "source": [
    "data = {'name': 'shital', 'age': 30, 'class':'Python'}\n",
    "print(data)"
   ]
  },
  {
   "cell_type": "code",
   "execution_count": 36,
   "id": "e2e959b3",
   "metadata": {},
   "outputs": [
    {
     "name": "stdout",
     "output_type": "stream",
     "text": [
      "30\n"
     ]
    }
   ],
   "source": [
    "print(data['age'])"
   ]
  },
  {
   "cell_type": "code",
   "execution_count": 37,
   "id": "e40d43be",
   "metadata": {},
   "outputs": [
    {
     "name": "stdout",
     "output_type": "stream",
     "text": [
      "{'name': 'Pawar', 'age': 30, 'class': 'Python'}\n"
     ]
    }
   ],
   "source": [
    "data['name'] = 'Pawar'\n",
    "print(data)"
   ]
  },
  {
   "cell_type": "code",
   "execution_count": 38,
   "id": "2905e3b9",
   "metadata": {},
   "outputs": [
    {
     "name": "stdout",
     "output_type": "stream",
     "text": [
      "{'name': 'Pawar', 'age': 30, 'class': 'Python', 'course': 'Python'}\n"
     ]
    }
   ],
   "source": [
    "data['course'] = 'Python'\n",
    "print(data)"
   ]
  },
  {
   "cell_type": "markdown",
   "id": "bb83326b",
   "metadata": {},
   "source": [
    "- Methods\n",
    "    - keys()\n",
    "    - items()\n",
    "    - values()\n",
    "    - .get()\n",
    "    - update- clear()\n",
    "    - pop() = select key and remove this item\n",
    "    - popiteme(). = delete last item"
   ]
  },
  {
   "cell_type": "code",
   "execution_count": 39,
   "id": "c55180fc",
   "metadata": {},
   "outputs": [
    {
     "name": "stdout",
     "output_type": "stream",
     "text": [
      "{2: 4, 3: 9, 4: 6}\n"
     ]
    }
   ],
   "source": [
    "dict1 = {2:4, 3:9}\n",
    "dict2 = {3:9, 4:6}\n",
    "dict1.update(dict2)\n",
    "print(dict1)"
   ]
  },
  {
   "cell_type": "code",
   "execution_count": 40,
   "id": "051ecb68",
   "metadata": {},
   "outputs": [
    {
     "name": "stdout",
     "output_type": "stream",
     "text": [
      "{}\n"
     ]
    }
   ],
   "source": [
    "dict1.clear()\n",
    "print(dict1)"
   ]
  },
  {
   "cell_type": "code",
   "execution_count": 41,
   "id": "015a7554",
   "metadata": {},
   "outputs": [
    {
     "name": "stdout",
     "output_type": "stream",
     "text": [
      "<class 'dict'>\n"
     ]
    }
   ],
   "source": [
    "s={}\n",
    "print(type(s))"
   ]
  },
  {
   "cell_type": "code",
   "execution_count": 46,
   "id": "8e24dffc",
   "metadata": {},
   "outputs": [
    {
     "name": "stdout",
     "output_type": "stream",
     "text": [
      "{2: 3}\n",
      "(6, 7)\n"
     ]
    }
   ],
   "source": [
    "data = {2:3, 4:5, 6:7}\n",
    "data.pop(4)\n",
    "data.popitem()\n",
    "print(data)\n",
    "print(a)"
   ]
  },
  {
   "cell_type": "code",
   "execution_count": null,
   "id": "1d4d7da3",
   "metadata": {},
   "outputs": [],
   "source": []
  },
  {
   "cell_type": "code",
   "execution_count": null,
   "id": "0a112432",
   "metadata": {},
   "outputs": [],
   "source": []
  }
 ],
 "metadata": {
  "kernelspec": {
   "display_name": "Python 3 (ipykernel)",
   "language": "python",
   "name": "python3"
  },
  "language_info": {
   "codemirror_mode": {
    "name": "ipython",
    "version": 3
   },
   "file_extension": ".py",
   "mimetype": "text/x-python",
   "name": "python",
   "nbconvert_exporter": "python",
   "pygments_lexer": "ipython3",
   "version": "3.9.13"
  }
 },
 "nbformat": 4,
 "nbformat_minor": 5
}
