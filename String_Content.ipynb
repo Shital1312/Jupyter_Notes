{
 "cells": [
  {
   "cell_type": "markdown",
   "id": "60af9ae8",
   "metadata": {},
   "source": [
    "## String contend\n"
   ]
  },
  {
   "cell_type": "markdown",
   "id": "7553c220",
   "metadata": {},
   "source": [
    "#String Indexing"
   ]
  },
  {
   "cell_type": "code",
   "execution_count": 2,
   "id": "db5af646",
   "metadata": {},
   "outputs": [
    {
     "name": "stdout",
     "output_type": "stream",
     "text": [
      "h\n"
     ]
    }
   ],
   "source": [
    "name = \"Ethans\"\n",
    "print(name[2])"
   ]
  },
  {
   "cell_type": "markdown",
   "id": "4ddb6b86",
   "metadata": {},
   "source": [
    "# String slicing"
   ]
  },
  {
   "cell_type": "markdown",
   "id": "a8a03d9c",
   "metadata": {},
   "source": [
    "- var_name(start:stop:step)\n",
    "- step default value is +1"
   ]
  },
  {
   "cell_type": "code",
   "execution_count": 7,
   "id": "bf4ac287",
   "metadata": {},
   "outputs": [
    {
     "name": "stdout",
     "output_type": "stream",
     "text": [
      "tta\n"
     ]
    }
   ],
   "source": [
    "name = 'Dattaprasad'\n",
    "print(name[2:5])"
   ]
  },
  {
   "cell_type": "code",
   "execution_count": 8,
   "id": "c1e82250",
   "metadata": {},
   "outputs": [
    {
     "name": "stdout",
     "output_type": "stream",
     "text": [
      "ttaprasad\n"
     ]
    }
   ],
   "source": [
    "print(name[2:20])"
   ]
  },
  {
   "cell_type": "code",
   "execution_count": 9,
   "id": "59f7c6b1",
   "metadata": {},
   "outputs": [
    {
     "name": "stdout",
     "output_type": "stream",
     "text": [
      "tarsd\n"
     ]
    }
   ],
   "source": [
    "print(name[2:11:2])"
   ]
  },
  {
   "cell_type": "code",
   "execution_count": 13,
   "id": "fd256071",
   "metadata": {},
   "outputs": [
    {
     "name": "stdout",
     "output_type": "stream",
     "text": [
      "\n"
     ]
    }
   ],
   "source": [
    "print(name[-1:-5]) # empty striing because step value is defalut 1."
   ]
  },
  {
   "cell_type": "code",
   "execution_count": 14,
   "id": "cf0be264",
   "metadata": {},
   "outputs": [
    {
     "name": "stdout",
     "output_type": "stream",
     "text": [
      "dasa\n"
     ]
    }
   ],
   "source": [
    "print(name[-1:-5:-1])"
   ]
  },
  {
   "cell_type": "code",
   "execution_count": 17,
   "id": "a55ca11f",
   "metadata": {},
   "outputs": [
    {
     "name": "stdout",
     "output_type": "stream",
     "text": [
      "Datta\n",
      "dasar\n"
     ]
    }
   ],
   "source": [
    "print(name[:5])\n",
    "print(name[:5:-1])"
   ]
  },
  {
   "cell_type": "code",
   "execution_count": 16,
   "id": "f59b833c",
   "metadata": {},
   "outputs": [
    {
     "name": "stdout",
     "output_type": "stream",
     "text": [
      "prasad\n"
     ]
    }
   ],
   "source": [
    "print(name[5:])"
   ]
  },
  {
   "cell_type": "markdown",
   "id": "4453ccee",
   "metadata": {},
   "source": [
    "- interview que"
   ]
  },
  {
   "cell_type": "code",
   "execution_count": 1,
   "id": "19594ea8",
   "metadata": {},
   "outputs": [
    {
     "name": "stdout",
     "output_type": "stream",
     "text": [
      "Enter your name: shitalkhaire\n",
      "eriahklatihs\n",
      "eriahklatihs\n"
     ]
    }
   ],
   "source": [
    "# How to revers string?\n",
    "name = input(\"Enter your name: \")\n",
    "print(name[::-1]) # start and stop value is not define that's why it's start with default -1 to end in neagative step.\n",
    "print(name[-1::-1])"
   ]
  },
  {
   "cell_type": "markdown",
   "id": "93c29c06",
   "metadata": {},
   "source": [
    "## string methods"
   ]
  },
  {
   "cell_type": "markdown",
   "id": "22c26f53",
   "metadata": {},
   "source": [
    "- String are IMMUTABLE\n",
    "    - upper ()\n",
    "    -lower ()\n",
    "    - capitalize()\n",
    "    -ljust()\n",
    "    -rjust()\n",
    "    -center()\n",
    "    -count()\n",
    "    -Index()\n",
    "    -strip()\n",
    "    -lstrip()\n",
    "    -rstrip()\n",
    "    - replace()\n",
    "    - split()\n",
    "    -rsplit()\n",
    "    -isupper()\n",
    "    -islower()\n",
    "    - isdigit()\n",
    "    - isalpha()\n",
    "    - endswith()\n",
    "    - startswith()\n",
    "    "
   ]
  },
  {
   "cell_type": "code",
   "execution_count": 2,
   "id": "a00edc11",
   "metadata": {},
   "outputs": [
    {
     "name": "stdout",
     "output_type": "stream",
     "text": [
      "WELCOME TO TODAYS CLASS. WE ARE GOING TO ONLINE CLASS\n",
      "welcome to todays class. we are going to online class\n",
      "Welcome to todays class. we are going to online class\n"
     ]
    }
   ],
   "source": [
    "data = 'welcome To todays class. We are going to online class'\n",
    "print(data.upper())\n",
    "print(data.lower())\n",
    "print(data.capitalize())\n"
   ]
  },
  {
   "cell_type": "code",
   "execution_count": 5,
   "id": "35f1ef34",
   "metadata": {},
   "outputs": [
    {
     "name": "stdout",
     "output_type": "stream",
     "text": [
      "welcome to python course----------------\n",
      "----------------welcome to python course\n",
      "--------welcome to python course--------\n"
     ]
    }
   ],
   "source": [
    "data1 = 'welcome to python course'\n",
    "print(data1.ljust(40,'-'))\n",
    "print(data1.rjust(40, '-'))\n",
    "print(data1.center(40, '-'))"
   ]
  },
  {
   "cell_type": "code",
   "execution_count": 6,
   "id": "ff47871d",
   "metadata": {},
   "outputs": [
    {
     "name": "stdout",
     "output_type": "stream",
     "text": [
      "140632544083312\n",
      "140632544083312\n"
     ]
    }
   ],
   "source": [
    "name = 'arush'\n",
    "name1 = 'arush'\n",
    "print(id(name))\n",
    "print(id(name1))"
   ]
  },
  {
   "cell_type": "code",
   "execution_count": 13,
   "id": "973e875a",
   "metadata": {},
   "outputs": [
    {
     "name": "stdout",
     "output_type": "stream",
     "text": [
      "2\n"
     ]
    }
   ],
   "source": [
    "data = 'Welcome to python Course'\n",
    "print(data.lower().count('co'))"
   ]
  },
  {
   "cell_type": "code",
   "execution_count": 21,
   "id": "7819c3db",
   "metadata": {},
   "outputs": [
    {
     "name": "stdout",
     "output_type": "stream",
     "text": [
      "24\n",
      "8\n"
     ]
    }
   ],
   "source": [
    "print(len(data))\n",
    "print(data.index('to'))"
   ]
  },
  {
   "cell_type": "code",
   "execution_count": 1,
   "id": "0be3a039",
   "metadata": {},
   "outputs": [
    {
     "name": "stdout",
     "output_type": "stream",
     "text": [
      "9\n",
      "11\n"
     ]
    }
   ],
   "source": [
    "name = 'my name is shital'\n",
    "print(name.index('s')) # first one 's ' index is print.\n",
    "print(name.index('s', 10)) # you can see after first then when print second time."
   ]
  },
  {
   "cell_type": "code",
   "execution_count": 29,
   "id": "dc407ee1",
   "metadata": {},
   "outputs": [
    {
     "name": "stdout",
     "output_type": "stream",
     "text": [
      "Ethans---- ns\n"
     ]
    }
   ],
   "source": [
    "name = '------Ethans---- ns----'\n",
    "data = name.strip('-')\n",
    "print(data)"
   ]
  },
  {
   "cell_type": "code",
   "execution_count": 30,
   "id": "955c2eb4",
   "metadata": {},
   "outputs": [
    {
     "name": "stdout",
     "output_type": "stream",
     "text": [
      "Ethans---- ns\n",
      "Ethans---- ns----\n",
      "------Ethans---- ns\n"
     ]
    }
   ],
   "source": [
    "print(name.strip('-'))\n",
    "print(name.lstrip('-'))\n",
    "print(name.rstrip('-'))\n"
   ]
  },
  {
   "cell_type": "code",
   "execution_count": 36,
   "id": "63708d31",
   "metadata": {},
   "outputs": [
    {
     "name": "stdout",
     "output_type": "stream",
     "text": [
      "['123', '456-789']\n",
      "['123-456', '789']\n"
     ]
    }
   ],
   "source": [
    "no = '123-456-789'\n",
    "print(no.split('-', 1))\n",
    "print(no.rsplit('-', 1))"
   ]
  },
  {
   "cell_type": "code",
   "execution_count": 47,
   "id": "8f6c9342",
   "metadata": {},
   "outputs": [
    {
     "name": "stdout",
     "output_type": "stream",
     "text": [
      "True\n",
      "False\n",
      "False\n",
      "True\n",
      "True\n",
      "True\n"
     ]
    }
   ],
   "source": [
    "name = 'SHITAL'\n",
    "print(name.isupper())\n",
    "print(name.islower())\n",
    "print(name.isdigit())\n",
    "print(name.isalpha())\n",
    "print(name.endswith('L'))\n",
    "print(name.startswith(\"S\"))"
   ]
  },
  {
   "cell_type": "markdown",
   "id": "6c83c023",
   "metadata": {},
   "source": [
    "# Type cast"
   ]
  },
  {
   "cell_type": "markdown",
   "id": "9df989be",
   "metadata": {},
   "source": [
    "- str/ int/ float "
   ]
  },
  {
   "cell_type": "code",
   "execution_count": 3,
   "id": "e62da97a",
   "metadata": {},
   "outputs": [
    {
     "name": "stdout",
     "output_type": "stream",
     "text": [
      "--------------------------------------------------------------------------------\n",
      "                               AGE CALCULATOR                               \n",
      "--------------------------------------------------------------------------------\n",
      "Enter your Full Name, age: shital, 40\n",
      "Enter your expected age: 30\n",
      "Enter the year: 2023\n",
      "            Hi ETHANS Wakad             \n",
      "      you will turn 30 years old in  2023\n"
     ]
    }
   ],
   "source": [
    "#MY Code Solution\n",
    "under = ''\n",
    "print(under.rjust(80, '-'))\n",
    "print(under.rjust(30, \" \"), \"AGE CALCULATOR\", under.ljust(30, \" \"))\n",
    "print(under.rjust(80, '-'))\n",
    "\n",
    "var_name = input(\"Enter your Full Name, age: \")\n",
    "var_age = int(input(\"Enter your expected age: \"))\n",
    "msg = \"Hi ETHANS Wakad\"\n",
    "year = int(input(\"Enter the year: \"))\n",
    "print(msg.center(40))\n",
    "new_msg = ''\n",
    "print(new_msg.rjust(5, ' '), \"you will turn\", var_age, \"years old in \", year)\n"
   ]
  },
  {
   "cell_type": "code",
   "execution_count": 7,
   "id": "aa653e20",
   "metadata": {},
   "outputs": [
    {
     "name": "stdout",
     "output_type": "stream",
     "text": [
      "----------------------------------------\n",
      "             AGE CALCUTATOR             \n",
      "----------------------------------------\n",
      "Enter your Full Name, age : shital khaire, 30\n",
      "Enter your expected age : 40\n",
      "            Hi SHITAL khaire            \n",
      "You will turn 100 years old in 2033\n"
     ]
    }
   ],
   "source": [
    "# Class Code Solution\n",
    "width = 40\n",
    "cyear = 2023\n",
    "name = 'AGE CALCUTATOR'\n",
    "head = '-' * width\n",
    "print(head)\n",
    "print(name.center(width))\n",
    "print(head)\n",
    "full_name, age = input(\"Enter your Full Name, age : \").split(',')\n",
    "fname,sname = full_name.split()\n",
    "eage = int(input(\"Enter your expected age : \"))\n",
    "msg = 'Hi '+ fname.upper()+' '+sname.lower()\n",
    "print(msg.center(width))\n",
    "year = cyear+ (eage - int(age))\n",
    "print(\"You will turn 100 years old in \"+ str(year))\n",
    "\n"
   ]
  },
  {
   "cell_type": "markdown",
   "id": "d943fa6c",
   "metadata": {},
   "source": [
    "# Collections"
   ]
  },
  {
   "cell_type": "markdown",
   "id": "304d8c03",
   "metadata": {},
   "source": [
    "- List\n",
    "- tuple\n",
    "- sets\n",
    "- dict"
   ]
  },
  {
   "cell_type": "code",
   "execution_count": null,
   "id": "f3e6f7e9",
   "metadata": {},
   "outputs": [],
   "source": []
  }
 ],
 "metadata": {
  "kernelspec": {
   "display_name": "Python 3 (ipykernel)",
   "language": "python",
   "name": "python3"
  },
  "language_info": {
   "codemirror_mode": {
    "name": "ipython",
    "version": 3
   },
   "file_extension": ".py",
   "mimetype": "text/x-python",
   "name": "python",
   "nbconvert_exporter": "python",
   "pygments_lexer": "ipython3",
   "version": "3.9.13"
  }
 },
 "nbformat": 4,
 "nbformat_minor": 5
}
