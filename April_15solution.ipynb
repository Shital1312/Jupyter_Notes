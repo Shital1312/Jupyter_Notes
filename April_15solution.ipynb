{
 "cells": [
  {
   "cell_type": "code",
   "execution_count": 18,
   "id": "397eb5b7",
   "metadata": {},
   "outputs": [
    {
     "name": "stdout",
     "output_type": "stream",
     "text": [
      "Even count : 9\n",
      "Odd Count : 8\n"
     ]
    }
   ],
   "source": [
    "# Write a Python program to count the number of even and odd numbers from a series of numbers.\n",
    "list1 = [1,4,3,2,6,7,8,9,7,6,5,44,33,22,66,89,24]\n",
    "even_count = 0\n",
    "odd_count = 0\n",
    "for i in list1:\n",
    "    if i %2 == 0:\n",
    "        even_count +=1\n",
    "    else:\n",
    "        odd_count +=1\n",
    "print(f'Even count : {even_count}\\nOdd Count : {odd_count}')"
   ]
  },
  {
   "cell_type": "code",
   "execution_count": 19,
   "id": "28da2701",
   "metadata": {},
   "outputs": [
    {
     "name": "stdout",
     "output_type": "stream",
     "text": [
      "Even count :9\n",
      "odd count : 8\n"
     ]
    }
   ],
   "source": [
    "even = 0\n",
    "odd = 0\n",
    "for i in list1:\n",
    "    if i %2 == 0:\n",
    "        even+=1\n",
    "    else:\n",
    "        odd+=1\n",
    "print(F'Even count :{even}\\nodd count : {odd}')"
   ]
  },
  {
   "cell_type": "code",
   "execution_count": 21,
   "id": "cb9f4c43",
   "metadata": {},
   "outputs": [
    {
     "name": "stdout",
     "output_type": "stream",
     "text": [
      "Enter a user name : shital\n",
      "Enter a Password : 123\n",
      "Confirm a Password : 123\n",
      "PASSWORDS MATCHED\n"
     ]
    }
   ],
   "source": [
    "name = input('Enter a user name : ')\n",
    "paswd = input('Enter a Password : ')\n",
    "paswd1 = input('Confirm a Password : ')\n",
    "if paswd != paswd1:\n",
    "    print('ERROR : PASSWORDS DO NOT MATCH')\n",
    "else:\n",
    "    print('PASSWORDS MATCHED')"
   ]
  },
  {
   "cell_type": "code",
   "execution_count": 22,
   "id": "ea6be8be",
   "metadata": {},
   "outputs": [
    {
     "name": "stdout",
     "output_type": "stream",
     "text": [
      "Enter a month : April\n",
      "Its Summer Season\n"
     ]
    }
   ],
   "source": [
    "# WAP to ask user the month of year and print the season (winter,summer,Monsoon,spring)\n",
    "winter = ['January','December']\n",
    "Spring = ['Feburary','March']\n",
    "Summer = ['April','May','June']\n",
    "Monsoon = ['July','August','September']\n",
    "\n",
    "month = input('Enter a month : ').capitalize()\n",
    "\n",
    "if month in winter:\n",
    "    print('Its Winter Season')\n",
    "elif month in Spring:\n",
    "    print('Its Spring Season')\n",
    "elif month in Summer:\n",
    "    print('Its Summer Season')\n",
    "elif month in Monsoon:\n",
    "    print('Its Monsoon Season')\n",
    "else:\n",
    "    print('ERROR : Invalid Month')"
   ]
  },
  {
   "cell_type": "code",
   "execution_count": 34,
   "id": "97393295",
   "metadata": {},
   "outputs": [
    {
     "name": "stdout",
     "output_type": "stream",
     "text": [
      "enter a word: dsfdfgghf\n",
      "alternate case string is : dSfDfGgHf\n"
     ]
    }
   ],
   "source": [
    "#Write a program that asks the user to enter a word and then capitalizes every other letter of that word. So if the user enters rhinoceros, the program should print rHiNoCeRoS.\n",
    "word = input(\"enter a word: \")\n",
    "res = ''\n",
    "for char in range(len(word)):\n",
    "    if char %2 != 0:\n",
    "        res = res+word[char].upper()\n",
    "    else:\n",
    "        res = res+word[char].lower()\n",
    "print(f'alternate case string is : '+ (res))"
   ]
  },
  {
   "cell_type": "code",
   "execution_count": 28,
   "id": "04b86646",
   "metadata": {},
   "outputs": [
    {
     "name": "stdout",
     "output_type": "stream",
     "text": [
      "Enter a word : hjklkjioyu\n",
      "hJkLkJiOyU"
     ]
    }
   ],
   "source": [
    "word = input('Enter a word : ')\n",
    "length = len(word)\n",
    "for i in range(length):\n",
    "    if i %2 != 0:\n",
    "        print(word[i].upper(),end='')\n",
    "    else:\n",
    "        print(word[i],end='')"
   ]
  },
  {
   "cell_type": "code",
   "execution_count": 4,
   "id": "4e0179d0",
   "metadata": {},
   "outputs": [
    {
     "name": "stdout",
     "output_type": "stream",
     "text": [
      "*\n",
      "**\n",
      "***\n",
      "****\n",
      "*****\n"
     ]
    }
   ],
   "source": [
    "count = 1\n",
    "while count <= 5:\n",
    "    print('*' * count)\n",
    "    count = count+1"
   ]
  },
  {
   "cell_type": "code",
   "execution_count": null,
   "id": "75d474f1",
   "metadata": {},
   "outputs": [],
   "source": []
  }
 ],
 "metadata": {
  "kernelspec": {
   "display_name": "Python 3 (ipykernel)",
   "language": "python",
   "name": "python3"
  },
  "language_info": {
   "codemirror_mode": {
    "name": "ipython",
    "version": 3
   },
   "file_extension": ".py",
   "mimetype": "text/x-python",
   "name": "python",
   "nbconvert_exporter": "python",
   "pygments_lexer": "ipython3",
   "version": "3.9.13"
  }
 },
 "nbformat": 4,
 "nbformat_minor": 5
}
