{
 "cells": [
  {
   "cell_type": "code",
   "execution_count": 1,
   "id": "df3a485b",
   "metadata": {},
   "outputs": [],
   "source": [
    "def check_even(n):\n",
    "    if n % 2 == 0:\n",
    "        return True\n",
    "    else:\n",
    "        return False"
   ]
  },
  {
   "cell_type": "code",
   "execution_count": 2,
   "id": "384d4a0f",
   "metadata": {},
   "outputs": [],
   "source": [
    "data = check_even(5)"
   ]
  },
  {
   "cell_type": "code",
   "execution_count": 3,
   "id": "8395d467",
   "metadata": {},
   "outputs": [
    {
     "name": "stdout",
     "output_type": "stream",
     "text": [
      "False\n"
     ]
    }
   ],
   "source": [
    "print(data)"
   ]
  },
  {
   "cell_type": "code",
   "execution_count": 4,
   "id": "b66ad3dd",
   "metadata": {},
   "outputs": [],
   "source": [
    "def get_even_odd(n):\n",
    "    if check_even(n):\n",
    "        return 'Even'\n",
    "    else:\n",
    "        return 'Odd'\n",
    "    "
   ]
  },
  {
   "cell_type": "code",
   "execution_count": 5,
   "id": "d8bc53e7",
   "metadata": {},
   "outputs": [
    {
     "data": {
      "text/plain": [
       "'Even'"
      ]
     },
     "execution_count": 5,
     "metadata": {},
     "output_type": "execute_result"
    }
   ],
   "source": [
    "get_even_odd(40)"
   ]
  },
  {
   "cell_type": "code",
   "execution_count": 10,
   "id": "1cbcc2e5",
   "metadata": {},
   "outputs": [],
   "source": [
    "def main():\n",
    "    check_even(5)\n",
    "    "
   ]
  },
  {
   "cell_type": "code",
   "execution_count": 11,
   "id": "0a6c38d8",
   "metadata": {},
   "outputs": [],
   "source": [
    "main()"
   ]
  },
  {
   "cell_type": "markdown",
   "id": "f69543ff",
   "metadata": {},
   "source": [
    "# File Handlling"
   ]
  },
  {
   "cell_type": "markdown",
   "id": "aa237391",
   "metadata": {},
   "source": [
    "- I/O file\n",
    "    - create a connection with file(open)\n",
    "        - Access Mode:\n",
    "            - 'r': read\n",
    "                    Error if file not exists\n",
    "                    default mode\n",
    "            - 'w': Write\n",
    "                    Overwrite\n",
    "                    creates a file does not exists\n",
    "            - 'a' : append at the end\n",
    "                    create file if does not exists\n",
    "            - '+' : \n",
    "            - 'b' /'t' : 't' text mode is default\n",
    "            "
   ]
  },
  {
   "cell_type": "markdown",
   "id": "385fad16",
   "metadata": {},
   "source": [
    "## Write to file"
   ]
  },
  {
   "cell_type": "code",
   "execution_count": 16,
   "id": "7825845a",
   "metadata": {},
   "outputs": [],
   "source": [
    "# file handler\n",
    "fh = open(r'test.txt', 'w')\n",
    "fh.write(\"This is first line\\n\")\n",
    "fh.write(\"This is the second line\\n\")\n",
    "fh.close()"
   ]
  },
  {
   "cell_type": "code",
   "execution_count": 17,
   "id": "6c33adc7",
   "metadata": {},
   "outputs": [],
   "source": [
    "# file handler\n",
    "fh = open(r'test.txt', 'w')\n",
    "fh.write(\"1. This is first line\\n\")\n",
    "fh.write(\"2. This is the second line\\n\")\n",
    "fh.close()"
   ]
  },
  {
   "cell_type": "code",
   "execution_count": 18,
   "id": "3f1e9bdd",
   "metadata": {},
   "outputs": [],
   "source": [
    "# file handler\n",
    "fh = open(r'test.txt', 'a')\n",
    "fh.write(\"3. This is first line\\n\")\n",
    "fh.write(\"4. This is the second line\\n\")\n",
    "fh.close()\n"
   ]
  },
  {
   "cell_type": "code",
   "execution_count": 19,
   "id": "72890d6d",
   "metadata": {},
   "outputs": [],
   "source": [
    "data = ['First line\\n', 'Second line\\n', 'Third line\\n']\n",
    "fh = open(r'test.txt', 'a')\n",
    "fh.writelines(data)\n",
    "fh.close()"
   ]
  },
  {
   "cell_type": "code",
   "execution_count": 22,
   "id": "15fc8799",
   "metadata": {},
   "outputs": [
    {
     "name": "stdout",
     "output_type": "stream",
     "text": [
      "1. This is first line\n",
      "2. This is the second line\n",
      "3. This is first line\n",
      "4. This is the second line\n",
      "First line\n",
      "Second line\n",
      "Third line\n",
      "\n"
     ]
    }
   ],
   "source": [
    "fh = open(r'test.txt')\n",
    "info = fh.read()\n",
    "print(info)\n",
    "fh.close()"
   ]
  },
  {
   "cell_type": "code",
   "execution_count": 27,
   "id": "6844f7f0",
   "metadata": {},
   "outputs": [
    {
     "name": "stdout",
     "output_type": "stream",
     "text": [
      "1. This is\n",
      "10\n",
      "is is firs\n",
      "15\n"
     ]
    }
   ],
   "source": [
    "fh = open(r'test.txt')\n",
    "info = fh.read(10)\n",
    "print(info)\n",
    "print(fh.tell())# where is your pointer in your file that will show ushing this function.\n",
    "fh.seek(5)# start to pointer print your text where to start.\n",
    "info = fh.read(10)\n",
    "print(info)\n",
    "print(fh.tell())\n",
    "fh.close()"
   ]
  },
  {
   "cell_type": "markdown",
   "id": "e78e28f5",
   "metadata": {},
   "source": [
    "- readline()\n",
    "     - read one line\n",
    "- readlines()\n",
    "    read all line"
   ]
  },
  {
   "cell_type": "code",
   "execution_count": 28,
   "id": "da80cda1",
   "metadata": {},
   "outputs": [
    {
     "name": "stdout",
     "output_type": "stream",
     "text": [
      "1. This is first line\n",
      "\n",
      "2. This is the second line\n",
      "\n",
      "3. This is first line\n",
      "\n",
      "4. This is the second line\n",
      "\n",
      "First line\n",
      "\n",
      "Second line\n",
      "\n",
      "Third line\n",
      "\n"
     ]
    }
   ],
   "source": [
    "#Read file line by line using loop.\n",
    "fh = open(r'test.txt')\n",
    "for i in fh:\n",
    "    print(i)"
   ]
  },
  {
   "cell_type": "code",
   "execution_count": 31,
   "id": "81584068",
   "metadata": {},
   "outputs": [],
   "source": [
    "file = r'test.txt' # fh will be closed after with execution.\n",
    "with open(file, 'a')as fh:\n",
    "    fh.write(\"This a test\\n\")\n",
    "    fh.write(\"This a test\\n\")\n",
    "   "
   ]
  },
  {
   "cell_type": "markdown",
   "id": "7431a465",
   "metadata": {},
   "source": [
    "## Log file"
   ]
  },
  {
   "cell_type": "markdown",
   "id": "9d2f1014",
   "metadata": {},
   "source": [
    "- Format : [Info]: message\n",
    "\n",
    "- wite a one function which will add a message in log file"
   ]
  },
  {
   "cell_type": "code",
   "execution_count": 7,
   "id": "bbb0e135",
   "metadata": {},
   "outputs": [],
   "source": [
    "log_file = r'log.txt'\n",
    "\n",
    "\n",
    "def log_me(msg, level= 'INFO'):\n",
    "    data = f'[{level}]: {msg}\\n'\n",
    "    with open(log_file, 'a') as fh:\n",
    "        fh.write(data)\n",
    "    \n",
    "    "
   ]
  },
  {
   "cell_type": "code",
   "execution_count": 8,
   "id": "7230dba7",
   "metadata": {},
   "outputs": [],
   "source": [
    "log_me('User password is correct')\n",
    "log_me(\"Login successfully: shital\")\n"
   ]
  },
  {
   "cell_type": "code",
   "execution_count": 15,
   "id": "1b654038",
   "metadata": {},
   "outputs": [
    {
     "name": "stdout",
     "output_type": "stream",
     "text": [
      "Logged in users: ['Arush', 'Arush', 'shital', 'shital']\n"
     ]
    }
   ],
   "source": [
    "#WAF to givr list of successful logged in users.\n",
    "log_file = r'log.txt'\n",
    "\n",
    "def get_logged_in_user():\n",
    "    fh = open(log_file)\n",
    "    users = []\n",
    "    for line in fh:\n",
    "        if 'Login successfully' in line:\n",
    "            users.append(line.rsplit(':',1)[-1].strip())\n",
    "    print(f'Logged in users: {users}')\n",
    "\n",
    "get_logged_in_user()\n",
    "  \n",
    "  "
   ]
  },
  {
   "cell_type": "markdown",
   "id": "8bfad38c",
   "metadata": {},
   "source": [
    "## Comprehensions"
   ]
  },
  {
   "cell_type": "markdown",
   "id": "66d92f6b",
   "metadata": {},
   "source": [
    "- List\n",
    "- Dict"
   ]
  },
  {
   "cell_type": "code",
   "execution_count": 17,
   "id": "3fb6b11d",
   "metadata": {},
   "outputs": [
    {
     "ename": "NameError",
     "evalue": "name 'transformation' is not defined",
     "output_type": "error",
     "traceback": [
      "\u001b[0;31m---------------------------------------------------------------------------\u001b[0m",
      "\u001b[0;31mNameError\u001b[0m                                 Traceback (most recent call last)",
      "\u001b[0;32m/var/folders/84/q7tj08094j56md7c__crnk3c0000gp/T/ipykernel_3620/3636894555.py\u001b[0m in \u001b[0;36m<module>\u001b[0;34m\u001b[0m\n\u001b[0;32m----> 1\u001b[0;31m \u001b[0mvar_name\u001b[0m \u001b[0;34m=\u001b[0m \u001b[0;34m[\u001b[0m\u001b[0mtransformation\u001b[0m\u001b[0;34m,\u001b[0m \u001b[0mIteration\u001b[0m\u001b[0;34m,\u001b[0m \u001b[0mFilteration\u001b[0m\u001b[0;34m]\u001b[0m\u001b[0;34m\u001b[0m\u001b[0;34m\u001b[0m\u001b[0m\n\u001b[0m",
      "\u001b[0;31mNameError\u001b[0m: name 'transformation' is not defined"
     ]
    }
   ],
   "source": [
    "#var_name = [transformation, Iteration, Filteration]"
   ]
  },
  {
   "cell_type": "code",
   "execution_count": 19,
   "id": "91bb44db",
   "metadata": {},
   "outputs": [
    {
     "name": "stdout",
     "output_type": "stream",
     "text": [
      "[1, 8, 27, 64, 125, 216, 343, 512, 729, 1000]\n"
     ]
    }
   ],
   "source": [
    "# create a list with cube of 1 to 10\n",
    "sq = [j**3 for j in range(1,11)]\n",
    "print(sq)"
   ]
  },
  {
   "cell_type": "code",
   "execution_count": 20,
   "id": "a5584292",
   "metadata": {},
   "outputs": [
    {
     "name": "stdout",
     "output_type": "stream",
     "text": [
      "[8, 64, 216, 512, 1000]\n"
     ]
    }
   ],
   "source": [
    "# create a list with cube of even numbers from 1 to 10\n",
    "sq = [j**3 for j in range(1,11) if j %2 == 0]\n",
    "print(sq)"
   ]
  },
  {
   "cell_type": "code",
   "execution_count": 26,
   "id": "c3d68d6f",
   "metadata": {},
   "outputs": [
    {
     "name": "stdout",
     "output_type": "stream",
     "text": [
      "['S', 'S', 'M']\n"
     ]
    }
   ],
   "source": [
    "names = ['tejus', 'siddhi', 'ram', 'sandip', 'sagar','sonalI', 'monU']\n",
    "vowels = 'aeiou'\n",
    "data = [i[0].upper() for i in names if i[-1].lower() in vowels]\n",
    "print(data)"
   ]
  },
  {
   "cell_type": "code",
   "execution_count": 27,
   "id": "47ec0fd4",
   "metadata": {},
   "outputs": [
    {
     "name": "stdout",
     "output_type": "stream",
     "text": [
      "{'siddhi': 'S', 'sonalI': 'S', 'monU': 'M'}\n"
     ]
    }
   ],
   "source": [
    "data = {i:i[0].upper() for i in names if i[-1].lower() in vowels}\n",
    "print(data)"
   ]
  },
  {
   "cell_type": "markdown",
   "id": "02c6102f",
   "metadata": {},
   "source": [
    "## Enumerate\n"
   ]
  },
  {
   "cell_type": "code",
   "execution_count": 30,
   "id": "fe512301",
   "metadata": {},
   "outputs": [
    {
     "name": "stdout",
     "output_type": "stream",
     "text": [
      "[(0, 'tejus'), (1, 'siddhi'), (2, 'ram'), (3, 'sandip'), (4, 'sagar'), (5, 'sonalI'), (6, 'monU')]\n"
     ]
    }
   ],
   "source": [
    "# Enumerate\n",
    "names = ['tejus', 'siddhi', 'ram', 'sandip', 'sagar','sonalI', 'monU']\n",
    "\n",
    "data= list(enumerate(names))\n",
    "print(data)"
   ]
  },
  {
   "cell_type": "code",
   "execution_count": 32,
   "id": "ca961921",
   "metadata": {},
   "outputs": [
    {
     "name": "stdout",
     "output_type": "stream",
     "text": [
      "Index no is 1\n",
      "Index no is 5\n",
      "Index no is 6\n"
     ]
    }
   ],
   "source": [
    "for i , j in enumerate(names):\n",
    "    if j[-1].lower() in 'aeiou':\n",
    "        print(f\"Index no is {i}\")"
   ]
  },
  {
   "cell_type": "markdown",
   "id": "df64dfbd",
   "metadata": {},
   "source": [
    "# Zip"
   ]
  },
  {
   "cell_type": "code",
   "execution_count": 3,
   "id": "cb8cbba3",
   "metadata": {},
   "outputs": [
    {
     "name": "stdout",
     "output_type": "stream",
     "text": [
      "[('tejus', 44, 1), ('siddhi', 34, 2), ('ram', 23, 3), ('sandip', 12, 4), ('sagar', 16, 5), ('sonalI', 44, 6), ('monU', 43, 7)]\n"
     ]
    }
   ],
   "source": [
    "names = ['tejus', 'siddhi', 'ram', 'sandip', 'sagar','sonalI', 'monU']\n",
    "marks = [44,34,23,12,16,44,43]\n",
    "rno = [1,2,3,4,5,6,7]\n",
    "\n",
    "info = list(zip(names, marks, rno))\n",
    "print(info)"
   ]
  },
  {
   "cell_type": "markdown",
   "id": "7e29f993",
   "metadata": {},
   "source": [
    "# Map"
   ]
  },
  {
   "cell_type": "code",
   "execution_count": 4,
   "id": "9c667976",
   "metadata": {},
   "outputs": [],
   "source": [
    "def square(n):\n",
    "    return n**2\n",
    "\n"
   ]
  },
  {
   "cell_type": "code",
   "execution_count": 5,
   "id": "4172ed61",
   "metadata": {},
   "outputs": [
    {
     "name": "stdout",
     "output_type": "stream",
     "text": [
      "[1, 9, 16, 25, 36, 49, 81, 144, 196]\n"
     ]
    }
   ],
   "source": [
    "list2 = [1,3,4,5,6,7,9,12,14]\n",
    "sq = []\n",
    "for i in list2:\n",
    "    sq.append(square(i))\n",
    "print(sq)"
   ]
  },
  {
   "cell_type": "code",
   "execution_count": 8,
   "id": "58c81783",
   "metadata": {},
   "outputs": [
    {
     "name": "stdout",
     "output_type": "stream",
     "text": [
      "[1, 9, 16, 25, 36, 49, 81, 144, 196]\n"
     ]
    }
   ],
   "source": [
    "sq1 = list(map(square, list2))\n",
    "print(sq1)"
   ]
  },
  {
   "cell_type": "code",
   "execution_count": 9,
   "id": "fe32d1b0",
   "metadata": {},
   "outputs": [
    {
     "name": "stdout",
     "output_type": "stream",
     "text": [
      "Enter 3 numbers: 1,2,3\n",
      "1\n",
      "<class 'str'>\n"
     ]
    }
   ],
   "source": [
    "no1, no2, no3 = input(\"Enter 3 numbers: \").split(',')\n",
    "print(no1)\n",
    "print(type(no1))"
   ]
  },
  {
   "cell_type": "code",
   "execution_count": 10,
   "id": "f8298037",
   "metadata": {},
   "outputs": [
    {
     "name": "stdout",
     "output_type": "stream",
     "text": [
      "Enter 3 numbers: 1,2,3\n",
      "1\n",
      "<class 'int'>\n"
     ]
    }
   ],
   "source": [
    "no1, no2, no3 = map(int,input(\"Enter 3 numbers: \").split(','))\n",
    "print(no1)\n",
    "print(type(no1))"
   ]
  },
  {
   "cell_type": "code",
   "execution_count": null,
   "id": "a3b9b3e0",
   "metadata": {},
   "outputs": [],
   "source": []
  }
 ],
 "metadata": {
  "kernelspec": {
   "display_name": "Python 3 (ipykernel)",
   "language": "python",
   "name": "python3"
  },
  "language_info": {
   "codemirror_mode": {
    "name": "ipython",
    "version": 3
   },
   "file_extension": ".py",
   "mimetype": "text/x-python",
   "name": "python",
   "nbconvert_exporter": "python",
   "pygments_lexer": "ipython3",
   "version": "3.9.13"
  }
 },
 "nbformat": 4,
 "nbformat_minor": 5
}
