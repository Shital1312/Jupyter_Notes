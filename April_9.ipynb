{
 "cells": [
  {
   "cell_type": "markdown",
   "id": "1495398a",
   "metadata": {},
   "source": [
    "# Boolean"
   ]
  },
  {
   "cell_type": "code",
   "execution_count": 2,
   "id": "69084741",
   "metadata": {},
   "outputs": [
    {
     "name": "stdout",
     "output_type": "stream",
     "text": [
      "<class 'bool'>\n"
     ]
    }
   ],
   "source": [
    "data = True\n",
    "info = False\n",
    "print(type(data))"
   ]
  },
  {
   "cell_type": "markdown",
   "id": "c6bf2ab6",
   "metadata": {},
   "source": [
    "# None"
   ]
  },
  {
   "cell_type": "code",
   "execution_count": 3,
   "id": "42b9dc08",
   "metadata": {},
   "outputs": [
    {
     "name": "stdout",
     "output_type": "stream",
     "text": [
      "<class 'NoneType'>\n"
     ]
    }
   ],
   "source": [
    "data = None\n",
    "print(type(data))"
   ]
  },
  {
   "cell_type": "markdown",
   "id": "66cf21b4",
   "metadata": {},
   "source": [
    "# Comparisions"
   ]
  },
  {
   "cell_type": "markdown",
   "id": "8b511d6f",
   "metadata": {},
   "source": [
    "- value\n",
    "- Membership\n",
    "- Identity"
   ]
  },
  {
   "cell_type": "markdown",
   "id": "a68de75b",
   "metadata": {},
   "source": [
    "# value"
   ]
  },
  {
   "cell_type": "code",
   "execution_count": 7,
   "id": "f05bb5a3",
   "metadata": {},
   "outputs": [
    {
     "name": "stdout",
     "output_type": "stream",
     "text": [
      "False\n",
      "True\n",
      "True\n",
      "False\n"
     ]
    }
   ],
   "source": [
    "salary = 50000\n",
    "salary1 = 56000\n",
    "print(salary == salary1) # equal to \n",
    "print(salary != salary1) # not equal to\n",
    "print(salary < salary1)\n",
    "print(salary > salary1)\n",
    "print(salary >= salary1)\n",
    "print(salary <= salary1)"
   ]
  },
  {
   "cell_type": "markdown",
   "id": "6f3ccf9e",
   "metadata": {},
   "source": [
    "# Membership"
   ]
  },
  {
   "cell_type": "markdown",
   "id": "26510470",
   "metadata": {},
   "source": [
    "- in/ not in"
   ]
  },
  {
   "cell_type": "code",
   "execution_count": 10,
   "id": "a404dbda",
   "metadata": {},
   "outputs": [
    {
     "name": "stdout",
     "output_type": "stream",
     "text": [
      "True\n",
      "True\n",
      "False\n"
     ]
    }
   ],
   "source": [
    "data = 'This is my list'\n",
    "print('my' in data)\n",
    "print('My' not in data)\n",
    "print('My' in data)"
   ]
  },
  {
   "cell_type": "code",
   "execution_count": 15,
   "id": "3cd44e0b",
   "metadata": {},
   "outputs": [
    {
     "name": "stdout",
     "output_type": "stream",
     "text": [
      "False\n",
      "True\n",
      "True\n",
      "True\n"
     ]
    }
   ],
   "source": [
    "dict1 = {'a': 'Arush', 'b':'Baner'}\n",
    "print('Arush' in dict1)\n",
    "print('Arush' in dict1.values())\n",
    "print('a' in dict1)\n",
    "print(('a','Arush') in dict1.items())\n"
   ]
  },
  {
   "cell_type": "markdown",
   "id": "654c879f",
   "metadata": {},
   "source": [
    "# Identity"
   ]
  },
  {
   "cell_type": "markdown",
   "id": "5e511c71",
   "metadata": {},
   "source": [
    "- is/ is not"
   ]
  },
  {
   "cell_type": "code",
   "execution_count": 16,
   "id": "74161b3a",
   "metadata": {},
   "outputs": [
    {
     "name": "stdout",
     "output_type": "stream",
     "text": [
      "False\n"
     ]
    }
   ],
   "source": [
    "list1 = [1,2,3]\n",
    "list2 = [4,5,6]\n",
    "print(list1 is list2)"
   ]
  },
  {
   "cell_type": "code",
   "execution_count": 22,
   "id": "660b1df2",
   "metadata": {},
   "outputs": [
    {
     "name": "stdout",
     "output_type": "stream",
     "text": [
      "False\n",
      "True\n",
      "140373620319424\n",
      "140373620322112\n"
     ]
    }
   ],
   "source": [
    "list4 = [1,2,3]\n",
    "list1 = [1,2,3]\n",
    "\n",
    "list5 = [4,5,6]\n",
    "print(list4 == list5)\n",
    "print(list4 == list1)\n",
    "print(list1 is list4)\n",
    "print(id(list4))\n",
    "print(id(list5))"
   ]
  },
  {
   "cell_type": "code",
   "execution_count": 21,
   "id": "a14cb52e",
   "metadata": {},
   "outputs": [
    {
     "name": "stdout",
     "output_type": "stream",
     "text": [
      "True\n",
      "True\n"
     ]
    }
   ],
   "source": [
    "data = 5\n",
    "data1 = 5\n",
    "print(data == data1)\n",
    "print(data is data1)"
   ]
  },
  {
   "cell_type": "code",
   "execution_count": 23,
   "id": "14d518ec",
   "metadata": {},
   "outputs": [
    {
     "name": "stdout",
     "output_type": "stream",
     "text": [
      "True\n"
     ]
    }
   ],
   "source": [
    "a = 'shital'\n",
    "b = 'shital'\n",
    "print(a is b)"
   ]
  },
  {
   "cell_type": "code",
   "execution_count": 24,
   "id": "0f85d70b",
   "metadata": {},
   "outputs": [
    {
     "name": "stdout",
     "output_type": "stream",
     "text": [
      "False\n"
     ]
    }
   ],
   "source": [
    "a = (1,2)\n",
    "b = (1,2)\n",
    "print(a is b)\n",
    "# tupl ke andar list ho to changes hote hai isliye uski memrory location alag hota hai.\n"
   ]
  },
  {
   "cell_type": "markdown",
   "id": "5a180057",
   "metadata": {},
   "source": [
    "# Conditional Statements"
   ]
  },
  {
   "cell_type": "code",
   "execution_count": 32,
   "id": "8a5ee1e6",
   "metadata": {},
   "outputs": [
    {
     "name": "stdout",
     "output_type": "stream",
     "text": [
      "Enter your marks: 89\n",
      "enter your Gender: female\n",
      "Frist Division\n",
      "You won free education\n",
      "Best of Luck!\n"
     ]
    }
   ],
   "source": [
    "marks = int(input(\"Enter your marks: \"))\n",
    "sex = input(\"enter your Gender: \").capitalize()\n",
    "if marks >= 60 and marks <= 100:\n",
    "    print(\"Frist Division\")\n",
    "    if sex == 'Female':\n",
    "        print(\"You won free education\")\n",
    "elif marks >= 40 and marks < 60:\n",
    "    print('Second Division')\n",
    "elif marks >= 35 and marks <40:\n",
    "    print('Thrid Division')\n",
    "elif marks > 0 and marks < 34:\n",
    "    print('Please Reapper in Exam !!')\n",
    "else:\n",
    "    print(\"Please Enter a valid Percentage.\")\n",
    "print(\"Best of Luck!\")"
   ]
  },
  {
   "cell_type": "markdown",
   "id": "4d5be4fd",
   "metadata": {},
   "source": [
    "# Logical operators"
   ]
  },
  {
   "cell_type": "markdown",
   "id": "c3c3c7b7",
   "metadata": {},
   "source": [
    "- or - if any true then return Ture\n",
    "- and - if all true then return Ture\n"
   ]
  },
  {
   "cell_type": "code",
   "execution_count": 61,
   "id": "2966b4b4",
   "metadata": {},
   "outputs": [
    {
     "name": "stdout",
     "output_type": "stream",
     "text": [
      "Enter your Bank account number: 123\n",
      "Enter your password: 1233\n",
      "Enter how much ammout your want withdraw: 4000\n",
      "New Balance is 26000\n"
     ]
    }
   ],
   "source": [
    "bank_detail = {'123': {'Name': 'HDFC',\n",
    "                       'city': 'Baner', \n",
    "                       'Bal': 30000,\n",
    "                       'Password': 1233},\n",
    "                       \n",
    "               '124': {'Name': 'AXIS',\n",
    "                        'city': 'pune', \n",
    "                        'Bal': 33000,\n",
    "                          'Password': 3456}}\n",
    "user = input(\"Enter your Bank account number: \")\n",
    "pwd = int(input(\"Enter your password: \"))\n",
    "amt = int(input(\"Enter how much ammout your want withdraw: \"))\n",
    "\n",
    "if user not in bank_detail:\n",
    "    print(\"Error : Invalid account number.\")\n",
    "else:\n",
    "    if pwd != bank_detail[user]['Password']:\n",
    "        print(\"Your password is not valid.\")\n",
    "    else:\n",
    "        if amt > bank_detail[user]['Bal']:\n",
    "            print(f\"Error :  Insufficient Balance\")\n",
    "        else:\n",
    "            bank_detail[user]['Bal'] = bank_detail[user]['Bal']- amt\n",
    "            print(f\"New Balance is {bank_detail[user]['Bal']}\")\n"
   ]
  },
  {
   "cell_type": "markdown",
   "id": "ff98cf1e",
   "metadata": {},
   "source": [
    "- take acc no as input\n",
    "    - error of acc no is not valid\n",
    "    - password\n",
    "        -error\n",
    "        - Amount to withdraw\n",
    "            - more then balance: error\n",
    "            - less - deduct the amount"
   ]
  },
  {
   "cell_type": "code",
   "execution_count": null,
   "id": "b23517d2",
   "metadata": {},
   "outputs": [],
   "source": []
  }
 ],
 "metadata": {
  "kernelspec": {
   "display_name": "Python 3 (ipykernel)",
   "language": "python",
   "name": "python3"
  },
  "language_info": {
   "codemirror_mode": {
    "name": "ipython",
    "version": 3
   },
   "file_extension": ".py",
   "mimetype": "text/x-python",
   "name": "python",
   "nbconvert_exporter": "python",
   "pygments_lexer": "ipython3",
   "version": "3.9.13"
  }
 },
 "nbformat": 4,
 "nbformat_minor": 5
}
